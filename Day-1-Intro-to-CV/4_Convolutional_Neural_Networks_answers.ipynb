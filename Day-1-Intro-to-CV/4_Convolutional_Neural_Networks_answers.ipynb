{
 "cells": [
  {
   "cell_type": "markdown",
   "metadata": {
    "id": "dmsIFjbU_paL"
   },
   "source": [
    "# GirlsWhoML Session 5: Convolutional Neural Networks\n",
    "\n",
    "Authors: Adel Bibi, Catherine Tong"
   ]
  },
  {
   "cell_type": "markdown",
   "metadata": {
    "id": "2BCxTRjd_0du"
   },
   "source": [
    "# Utilities"
   ]
  },
  {
   "cell_type": "markdown",
   "metadata": {
    "id": "dwbuZ6AB90Av"
   },
   "source": [
    "We're going to use a GPU for our exercises today! \n",
    "\n",
    "Please do the following: \n",
    "\n",
    "1.   Go to `Runtime` on the top menu\n",
    "2.  `Change runtime type` \n",
    "3. Select `GPU` as your `Hardware accelerator`. \n",
    "\n"
   ]
  },
  {
   "cell_type": "markdown",
   "metadata": {
    "id": "ZeUrgZMsWypI"
   },
   "source": [
    "Also run cell below 👇🏻"
   ]
  },
  {
   "cell_type": "code",
   "execution_count": null,
   "metadata": {
    "id": "SEh7im9S5QDJ"
   },
   "outputs": [],
   "source": [
    "from random import randint\n",
    "import torch, torchvision\n",
    "from google.colab import files as FILE\n",
    "import os\n",
    "import requests                                              \n",
    "import urllib\n",
    "import PIL\n",
    "import matplotlib.pyplot as plt\n",
    "import cv2\n",
    "from torch.nn.functional import conv2d\n",
    "from pathlib import Path\n",
    "from torchvision.datasets import MNIST\n",
    "from torchvision.transforms import Normalize\n",
    "from torch import nn\n",
    "from torchvision import transforms\n",
    "import torch.nn.functional as F\n",
    "import time"
   ]
  },
  {
   "cell_type": "markdown",
   "metadata": {
    "id": "cgqHvUtMcfyo"
   },
   "source": [
    "Run the cell below to start downloading our data for PART 2:"
   ]
  },
  {
   "cell_type": "code",
   "execution_count": null,
   "metadata": {
    "colab": {
     "base_uri": "https://localhost:8080/",
     "height": 511
    },
    "executionInfo": {
     "elapsed": 5307,
     "status": "ok",
     "timestamp": 1627569155341,
     "user": {
      "displayName": "linde hesse",
      "photoUrl": "",
      "userId": "14232520946721195602"
     },
     "user_tz": -60
    },
    "id": "cY0Hett4cgcv",
    "outputId": "27fada2b-f8da-4813-e5d9-1a1f018b5e28"
   },
   "outputs": [
    {
     "name": "stdout",
     "output_type": "stream",
     "text": [
      "--2021-07-29 14:32:29--  http://www.di.ens.fr/~lelarge/MNIST.tar.gz\n",
      "Resolving www.di.ens.fr (www.di.ens.fr)... 129.199.99.14\n",
      "Connecting to www.di.ens.fr (www.di.ens.fr)|129.199.99.14|:80... connected.\n",
      "HTTP request sent, awaiting response... 302 Found\n",
      "Location: https://www.di.ens.fr/~lelarge/MNIST.tar.gz [following]\n",
      "--2021-07-29 14:32:30--  https://www.di.ens.fr/~lelarge/MNIST.tar.gz\n",
      "Connecting to www.di.ens.fr (www.di.ens.fr)|129.199.99.14|:443... connected.\n",
      "HTTP request sent, awaiting response... 200 OK\n",
      "Length: unspecified [application/x-gzip]\n",
      "Saving to: ‘MNIST.tar.gz’\n",
      "\n",
      "MNIST.tar.gz            [             <=>    ]  33.20M  11.3MB/s    in 2.9s    \n",
      "\n",
      "2021-07-29 14:32:33 (11.3 MB/s) - ‘MNIST.tar.gz’ saved [34813078]\n",
      "\n",
      "MNIST/\n",
      "MNIST/raw/\n",
      "MNIST/raw/train-labels-idx1-ubyte\n",
      "MNIST/raw/t10k-labels-idx1-ubyte.gz\n",
      "MNIST/raw/t10k-labels-idx1-ubyte\n",
      "MNIST/raw/t10k-images-idx3-ubyte.gz\n",
      "MNIST/raw/train-images-idx3-ubyte\n",
      "MNIST/raw/train-labels-idx1-ubyte.gz\n",
      "MNIST/raw/t10k-images-idx3-ubyte\n",
      "MNIST/raw/train-images-idx3-ubyte.gz\n",
      "MNIST/processed/\n",
      "MNIST/processed/training.pt\n",
      "MNIST/processed/test.pt\n"
     ]
    },
    {
     "data": {
      "application/vnd.google.colaboratory.intrinsic+json": {
       "type": "string"
      },
      "text/plain": [
       "'/root'"
      ]
     },
     "execution_count": 2,
     "metadata": {
      "tags": []
     },
     "output_type": "execute_result"
    }
   ],
   "source": [
    "!wget www.di.ens.fr/~lelarge/MNIST.tar.gz\n",
    "!tar -zxvf MNIST.tar.gz\n",
    "\n",
    "str(Path.home())"
   ]
  },
  {
   "cell_type": "markdown",
   "metadata": {
    "id": "rAw7BbVFAS5d"
   },
   "source": [
    "# Introduction \n",
    "\n",
    "Welcome to the last tutorial! 🎉  Previously, we've learned how to implement neural networks in PyTorch. Today, we are going one step further to learn about Convolutional Neural Networks! \n",
    "\n",
    "\n",
    "\n",
    "---\n",
    "\n"
   ]
  },
  {
   "cell_type": "markdown",
   "metadata": {
    "id": "TKW-uEIqAmhd"
   },
   "source": [
    "# Part 1: Understanding Image Kernels 🕵🏻‍♀\n"
   ]
  },
  {
   "cell_type": "markdown",
   "metadata": {
    "id": "F_MAo-qqBKKr"
   },
   "source": [
    "Head to this [tool](https://setosa.io/ev/image-kernels/) and explore the effect of using different kernels on the output image.\n",
    "\n",
    "Have a go in designing your own kernels! \n",
    "\n",
    "💡 *Extension:* have a look online and see if you can apply some well known filters to your image, such as the la placian or the sobel filter. Can you understand why a specific kernel gives a certain result?\n"
   ]
  },
  {
   "cell_type": "markdown",
   "metadata": {
    "id": "S5Xxlilztgin"
   },
   "source": [
    "**IMPORTANT:** Before you go back to main lecture, make sure you've run all the cells under **Utilities** (top of the notebook), including downloading the data."
   ]
  },
  {
   "cell_type": "markdown",
   "metadata": {
    "id": "XyV8dRDFCIoY"
   },
   "source": [
    "# Part 2: Implementing a Convolutional Neural Network "
   ]
  },
  {
   "cell_type": "markdown",
   "metadata": {
    "id": "bobx3dz3COnF"
   },
   "source": [
    "In this section, you're going to learn how to implement a Convolutional Neural Network (CNN) for a realworld classification task. We will be using the famous **MNIST** Dataset for a **Handwritten Digit Classification** problem! \n",
    "\n",
    "\n",
    "Let's first think about what we need:\n",
    "\n",
    "*   datasets for training and testing\n",
    "*   a Convolutional Neural Network\n",
    "*   a loss function and an optimizer\n",
    "*   a training pipeline that brings everything together\n",
    "\n",
    "You've seen all of this before, but we'll need to pay special attention to these today:\n",
    "\n",
    "1. how to load data from MNIST;\n",
    "2. how to define the CNN in PyTorch;\n",
    "3. refining the training pipeline\n",
    "\n",
    "💃💃 Let's begin! "
   ]
  },
  {
   "cell_type": "markdown",
   "metadata": {
    "id": "G3cgj1R_U6MI"
   },
   "source": [
    "## Task 2.1 Prepare the data"
   ]
  },
  {
   "cell_type": "markdown",
   "metadata": {
    "id": "QEA6jcqyGNmo"
   },
   "source": [
    "### Overview\n",
    "\n",
    "<!-- ![MNIST Dataset](https://miro.medium.com/max/856/0*ut2YGXFia6fMSPHt) -->\n",
    "\n",
    "\n",
    "Here's something you should know about MNIST:\n",
    "\n",
    "* **Task**? Classify digits (0 to 9) from an handwritten image;\n",
    "* **Train / Test splits**? These are pre-defined (60,000 images for training and 10,000 for testing);\n",
    "* **Size?** Each image is of fixed size (28x28 pixels) and contains one digit at the centre;\n",
    "* **Values?** Pixel values range from 0 to 255.\n"
   ]
  },
  {
   "cell_type": "markdown",
   "metadata": {
    "id": "JH36yZrfqVbp"
   },
   "source": [
    "### Loading the Data\n",
    "\n",
    "We've downloaded our data in PART 1, so let's start by loading our image dataset. \n",
    "\n",
    "As before, we need `X_data`, `Y_data` as training set, and `X_data_test`, `Y_data_test` as testing set."
   ]
  },
  {
   "cell_type": "code",
   "execution_count": null,
   "metadata": {
    "id": "s4LeCzKpLK21"
   },
   "outputs": [],
   "source": [
    "# Run this cell to load the data and define x_train, y_train\n",
    "data_path = '.'\n",
    "\n",
    "# train data\n",
    "train_data = MNIST(data_path, train=True)\n",
    "X_data_train = train_data.data.float().unsqueeze(1) # we add the channel dimension\n",
    "Y_data_train = train_data.targets\n",
    "\n",
    "# test data\n",
    "test_data = MNIST(data_path, train=False)\n",
    "X_data_test = test_data.data.float().unsqueeze(1) \n",
    "Y_data_test = test_data.targets"
   ]
  },
  {
   "cell_type": "markdown",
   "metadata": {
    "id": "wBxbrSgTQCcD"
   },
   "source": [
    "We've loaded the data as torch tensors so everything we've covered last session will apply! Can you recognize the channel dimension we added?"
   ]
  },
  {
   "cell_type": "code",
   "execution_count": null,
   "metadata": {
    "colab": {
     "base_uri": "https://localhost:8080/"
    },
    "executionInfo": {
     "elapsed": 175,
     "status": "ok",
     "timestamp": 1627569169259,
     "user": {
      "displayName": "linde hesse",
      "photoUrl": "",
      "userId": "14232520946721195602"
     },
     "user_tz": -60
    },
    "id": "PBvrL7JLQ36t",
    "outputId": "e97d7d3a-4eb4-4ed6-c767-384798a4369c"
   },
   "outputs": [
    {
     "name": "stdout",
     "output_type": "stream",
     "text": [
      "<class 'torch.Tensor'>\n",
      "torch.Size([60000, 1, 28, 28]) torch.Size([60000])\n",
      "torch.Size([10000, 1, 28, 28]) torch.Size([10000])\n"
     ]
    }
   ],
   "source": [
    "# check the data type\n",
    "print(type(X_data_train))\n",
    "# check the data shapes\n",
    "print(X_data_train.shape, Y_data_train.shape)\n",
    "print(X_data_test.shape, Y_data_test.shape)"
   ]
  },
  {
   "cell_type": "markdown",
   "metadata": {
    "id": "KsrAJL17NzZN"
   },
   "source": [
    "Let's plot some random images from the train dataset:\n"
   ]
  },
  {
   "cell_type": "code",
   "execution_count": null,
   "metadata": {
    "colab": {
     "base_uri": "https://localhost:8080/",
     "height": 591
    },
    "executionInfo": {
     "elapsed": 1911,
     "status": "ok",
     "timestamp": 1627569179930,
     "user": {
      "displayName": "linde hesse",
      "photoUrl": "",
      "userId": "14232520946721195602"
     },
     "user_tz": -60
    },
    "id": "fNVThleONJOf",
    "outputId": "649fb1cf-a66c-46da-e0da-38d4b3b7a0ae"
   },
   "outputs": [
    {
     "data": {
      "image/png": "[encoded data removed]",
      "text/plain": [
       "<Figure size 720x720 with 25 Axes>"
      ]
     },
     "metadata": {
      "needs_background": "light",
      "tags": []
     },
     "output_type": "display_data"
    }
   ],
   "source": [
    "# Run this cell to visualize random images from the train dataset\n",
    "plt.figure(figsize=(10,10))\n",
    "\n",
    "num_images = 25\n",
    "for i in range(num_images):\n",
    "  plt.subplot(5,5,i+1)\n",
    "  idx = randint(0,len(X_data_train)-1)\n",
    "  plt.imshow(X_data_train[idx,:,:].squeeze(), cmap='gray')\n",
    "  plt.title(str(Y_data_train[idx].numpy()))\n",
    "  plt.axis('off')\n",
    "plt.show()"
   ]
  },
  {
   "cell_type": "markdown",
   "metadata": {
    "id": "Y5aIvt3QN7l-"
   },
   "source": [
    "Great, you've successfully loaded the MNIST data! We can move on to defining the model! 👏"
   ]
  },
  {
   "cell_type": "markdown",
   "metadata": {
    "id": "t--qXyIkYlI_"
   },
   "source": [
    "## Task 2.2 Convolutional Layer"
   ]
  },
  {
   "cell_type": "markdown",
   "metadata": {
    "id": "hYfLtTMYsS3j"
   },
   "source": [
    "You'll recall that fully-connected layers were conveniently implemented as `nn.Linear` in Pytorch.\n",
    "\n",
    "For Convolutional Layers, it is [nn.Conv2d](https://pytorch.org/docs/stable/generated/torch.nn.Conv2d.html). \n",
    "\n",
    "[nn.Conv2d](https://pytorch.org/docs/stable/generated/torch.nn.Conv2d.html) has some interesting hyperparameters, and we're going to figure out what they mean in this exercise.\n",
    "\n"
   ]
  },
  {
   "cell_type": "markdown",
   "metadata": {
    "id": "LiW9gI-7ozX0"
   },
   "source": [
    "### Task 2.2a Dimensions"
   ]
  },
  {
   "cell_type": "markdown",
   "metadata": {
    "id": "SuxmMw-oH82Z"
   },
   "source": [
    "The input and output of `nn.Conv2d` should be in 4-dimensions: $(N, C, H, W)$, corresponding to (Number images, Channels, Height, Width).\n",
    "\n",
    "We have $C = 1$ because our images are in grayscale, otherwise $C = 3$ for RGB."
   ]
  },
  {
   "cell_type": "markdown",
   "metadata": {
    "id": "t9EOASAgI2IM"
   },
   "source": [
    "Let's first create some sample data."
   ]
  },
  {
   "cell_type": "code",
   "execution_count": null,
   "metadata": {
    "colab": {
     "base_uri": "https://localhost:8080/"
    },
    "executionInfo": {
     "elapsed": 180,
     "status": "ok",
     "timestamp": 1627569187675,
     "user": {
      "displayName": "linde hesse",
      "photoUrl": "",
      "userId": "14232520946721195602"
     },
     "user_tz": -60
    },
    "id": "eR4rxlvEIG60",
    "outputId": "94c7e357-3c4e-47c6-f006-a69fb50a7c65"
   },
   "outputs": [
    {
     "name": "stdout",
     "output_type": "stream",
     "text": [
      "input shape:  torch.Size([5, 1, 28, 28])\n"
     ]
    }
   ],
   "source": [
    "x_sample = X_data_train[:5]\n",
    "print('input shape: ', x_sample.shape)"
   ]
  },
  {
   "cell_type": "markdown",
   "metadata": {
    "id": "UZwSQnE9k4z0"
   },
   "source": [
    "You can see that the channel dimension is indeed 1 (the dimension we added when loading the data).\n",
    "\n",
    "Now we can feed this into a convolutional layer!\n",
    "\n",
    "Play around with its hyperparameters and inspect the difference in output shape! "
   ]
  },
  {
   "cell_type": "code",
   "execution_count": null,
   "metadata": {
    "colab": {
     "base_uri": "https://localhost:8080/"
    },
    "executionInfo": {
     "elapsed": 184,
     "status": "ok",
     "timestamp": 1627569189895,
     "user": {
      "displayName": "linde hesse",
      "photoUrl": "",
      "userId": "14232520946721195602"
     },
     "user_tz": -60
    },
    "id": "O_i2-OBGjtJ7",
    "outputId": "e59bc136-b70b-492a-8f48-722d60758218"
   },
   "outputs": [
    {
     "name": "stdout",
     "output_type": "stream",
     "text": [
      "output shape:  torch.Size([5, 8, 26, 26])\n"
     ]
    }
   ],
   "source": [
    "# Try changing these hyperparameters!\n",
    "out_channels = 8\n",
    "kernel_size = 3\n",
    "stride = 1\n",
    "padding = 0\n",
    "\n",
    "# define the convolutional layer\n",
    "my_conv = nn.Conv2d(in_channels=1, # DO NOT CHANGE in_channels, this has to be 1 (grayscale images)\n",
    "                    out_channels=out_channels,\n",
    "                    kernel_size=kernel_size,\n",
    "                    stride=stride,\n",
    "                    padding=padding)\n",
    "\n",
    "# pass \n",
    "out = my_conv(x_sample)\n",
    "\n",
    "print('output shape: ', out.shape) # is this the same as our input shape?"
   ]
  },
  {
   "cell_type": "markdown",
   "metadata": {
    "id": "iyDQ219qlbcK"
   },
   "source": [
    "Discuss with your demonstrator what you think each of these mean:\n",
    "\n",
    "* Out_channels\n",
    "* Kernel Size\n",
    "* Stride\n",
    "* Padding\n",
    "\n",
    "💡 **Question:**  How do they affect the output shape? \n",
    "\n",
    "*Extension*: In the following figure, can you identify what the [nn.Conv2d](https://pytorch.org/docs/stable/generated/torch.nn.Conv2d.html) parameters are to get the filter pictured in each animation?"
   ]
  },
  {
   "cell_type": "markdown",
   "metadata": {
    "id": "ldQY_j5Rw8Lt"
   },
   "source": [
    "<table>\n",
    "  <tbody>\n",
    "    <tr>\n",
    "      <td><img width=\"150px\" src=\"https://github.com/vdumoulin/conv_arithmetic/raw/master/gif/no_padding_no_strides.gif\"></td>\n",
    "      <td><img width=\"150px\" src=\"https://github.com/vdumoulin/conv_arithmetic/raw/master/gif/arbitrary_padding_no_strides.gif\"></td>\n",
    "      <td><img width=\"150px\" src=\"https://github.com/vdumoulin/conv_arithmetic/raw/master/gif/same_padding_no_strides.gif\"></td>\n",
    "      <td><img width=\"150px\" src=\"https://github.com/vdumoulin/conv_arithmetic/raw/master/gif/full_padding_no_strides.gif\"></td>\n",
    "    </tr>\n",
    "    <tr>\n",
    "      <td>No padding, no strides</td>\n",
    "      <td>Arbitrary padding, no strides</td>\n",
    "      <td>Half padding, no strides</td>\n",
    "      <td>Full padding, no strides</td>\n",
    "    </tr>\n",
    "    <tr>\n",
    "      <td><img width=\"150px\" src=\"https://github.com/vdumoulin/conv_arithmetic/raw/master/gif/no_padding_strides.gif\"></td>\n",
    "      <td><img width=\"150px\" src=\"https://github.com/vdumoulin/conv_arithmetic/raw/master/gif/padding_strides.gif\"></td>\n",
    "      <td><img width=\"150px\" src=\"https://github.com/vdumoulin/conv_arithmetic/raw/master/gif/padding_strides_odd.gif\"></td>\n",
    "      <td><h5><i><b>Source:</b> <a href=\"https://github.com/vdumoulin/conv_arithmetic\">vdumoulin</a></i></h5></td>\n",
    "    </tr>\n",
    "    <tr>\n",
    "      <td>No padding, strides</td>\n",
    "      <td>Padding, strides</td>\n",
    "      <td>Padding, strides (odd)</td>\n",
    "      <td></td>\n",
    "    </tr>\n",
    "  </tbody>\n",
    "</table>"
   ]
  },
  {
   "cell_type": "markdown",
   "metadata": {
    "id": "cP57bwbaK9fZ"
   },
   "source": [
    "### Task 2.2b Connecting the layers\n"
   ]
  },
  {
   "cell_type": "markdown",
   "metadata": {
    "id": "PeKAOyLmK-bS"
   },
   "source": [
    "We often need to have multiple `nn.Conv2d` layers, or, connect a `nn.Conv2d` layer to a `nn.Linear` layer.\n"
   ]
  },
  {
   "cell_type": "markdown",
   "metadata": {
    "id": "mCgtso1VuyCH"
   },
   "source": [
    "#### `nn.Conv2d` --> `nn.Conv2d`"
   ]
  },
  {
   "cell_type": "markdown",
   "metadata": {
    "id": "rKtdrk5DM0w5"
   },
   "source": [
    "💡 **Question:** Can we just stack two `my_conv` together like this? Why / Why not?"
   ]
  },
  {
   "cell_type": "markdown",
   "metadata": {
    "id": "KNBUfn-TRd5V"
   },
   "source": [
    "The following shows how you can stack two convolutional layers together: "
   ]
  },
  {
   "cell_type": "code",
   "execution_count": null,
   "metadata": {
    "colab": {
     "base_uri": "https://localhost:8080/"
    },
    "executionInfo": {
     "elapsed": 180,
     "status": "ok",
     "timestamp": 1627569226242,
     "user": {
      "displayName": "linde hesse",
      "photoUrl": "",
      "userId": "14232520946721195602"
     },
     "user_tz": -60
    },
    "id": "IPmWqBXTReqs",
    "outputId": "cc6dfade-1c94-46bd-ea13-a37ef58e4329"
   },
   "outputs": [
    {
     "name": "stdout",
     "output_type": "stream",
     "text": [
      "input shape:  torch.Size([5, 1, 28, 28])\n",
      "shape after 1st layer:  torch.Size([5, 10, 26, 26])\n",
      "shape after 2nd layer:  torch.Size([5, 5, 24, 24])\n"
     ]
    }
   ],
   "source": [
    "layer1 = nn.Conv2d(in_channels=1,out_channels=10, kernel_size=3)\n",
    "layer2 = nn.Conv2d(in_channels=10, out_channels=5, kernel_size=3)\n",
    "\n",
    "print('input shape: ', x_sample.shape)\n",
    "out_1 = layer1(x_sample)\n",
    "print('shape after 1st layer: ', out_1.shape)\n",
    "out_2 = layer2(out_1)\n",
    "print('shape after 2nd layer: ', out_2.shape)"
   ]
  },
  {
   "cell_type": "markdown",
   "metadata": {
    "id": "RTObdoeURrLP"
   },
   "source": [
    "💡 **Question:**  Can you define a third convolutional layer so that we end up with an output shape of $(5, 2, 22, 22)$? "
   ]
  },
  {
   "cell_type": "code",
   "execution_count": null,
   "metadata": {
    "colab": {
     "base_uri": "https://localhost:8080/"
    },
    "executionInfo": {
     "elapsed": 176,
     "status": "ok",
     "timestamp": 1627569228794,
     "user": {
      "displayName": "linde hesse",
      "photoUrl": "",
      "userId": "14232520946721195602"
     },
     "user_tz": -60
    },
    "id": "BQN-T5Q3RqXr",
    "outputId": "f762a552-7e6f-40ce-dd62-d75d34c9282a"
   },
   "outputs": [
    {
     "name": "stdout",
     "output_type": "stream",
     "text": [
      "shape after 3rd layer:  torch.Size([5, 2, 22, 22])\n"
     ]
    }
   ],
   "source": [
    "# TODO: fill in in_channels and out_channels\n",
    "# in_channels = ?\n",
    "# out_channels = ?\n",
    "\n",
    "in_channels = 5\n",
    "out_channels = 2\n",
    "layer3 = nn.Conv2d(in_channels=in_channels, \n",
    "                        out_channels=out_channels,\n",
    "                        kernel_size=3,\n",
    "                        stride = 1, \n",
    "                        padding = 0) # no padding\n",
    "\n",
    "\n",
    "out_3 = layer3(out_2)\n",
    "print('shape after 3rd layer: ', out_3.shape) # should print torch.Size([5, 2, 22, 22])"
   ]
  },
  {
   "cell_type": "markdown",
   "metadata": {
    "id": "NCGU4bMSPtyi"
   },
   "source": [
    "#### `nn.Conv2d` --> `nn.Linear`\n",
    "\n",
    "Let's also consider how we can stack together a convolutional and fully-connected layer. \n",
    "\n",
    "Recall their input / output dimensions: \n",
    "\n",
    "* `nn.Conv2d`: (N, Channels, Height, Width)\n",
    "* `nn.Linear`: (N, no. of output features)"
   ]
  },
  {
   "cell_type": "markdown",
   "metadata": {
    "id": "5FSpmTXfmjky"
   },
   "source": [
    "We need some way of going from a 4-D tensor (output of `nn.Conv2d`) to a 2-D tensor (input to `nn.Linear` layer), with the first dimension untouched. \n",
    "\n",
    "To do this, we need to \"flatten\" the tensor using [nn.Flatten](https://pytorch.org/docs/stable/generated/torch.nn.Flatten.html#torch.nn.Flatten), such that $[N, C, H, W]$ --> $[N, C \\times H \\times W]$. \n",
    "\n"
   ]
  },
  {
   "cell_type": "code",
   "execution_count": null,
   "metadata": {
    "colab": {
     "base_uri": "https://localhost:8080/"
    },
    "executionInfo": {
     "elapsed": 177,
     "status": "ok",
     "timestamp": 1627569235053,
     "user": {
      "displayName": "linde hesse",
      "photoUrl": "",
      "userId": "14232520946721195602"
     },
     "user_tz": -60
    },
    "id": "zYYNi6QZnVvE",
    "outputId": "359ca122-790e-4bd6-88b9-8f958d261e4a"
   },
   "outputs": [
    {
     "name": "stdout",
     "output_type": "stream",
     "text": [
      "original output shape:  torch.Size([5, 2, 22, 22])\n",
      "flattened output shape:  torch.Size([5, 968])\n"
     ]
    }
   ],
   "source": [
    "# TODO: change start_dim so that we end up with a tensor of shape (5, 968)\n",
    "\n",
    "# start_dim = 0 # CHANGE THIS! where should we start flattening the dimensions? \n",
    "\n",
    "start_dim = 1\n",
    "\n",
    "print('original output shape: ', out_3.shape)\n",
    "\n",
    "# nn.Flatten is implemented as layer, we first define the layer and then apply it\n",
    "flatten_layer = nn.Flatten(start_dim=start_dim)\n",
    "out = flatten_layer(out_3)\n",
    "\n",
    "print('flattened output shape: ', out.shape) # should print torch.Size([5, 968])"
   ]
  },
  {
   "cell_type": "markdown",
   "metadata": {
    "id": "Tuz971IgR9lE"
   },
   "source": [
    "### Task 2.2c Defining the Network\n",
    "\n",
    "Last time, we've seen that we can define a neural network with a class like this:  \n",
    "\n",
    "```\n",
    "class OneLayerNet(nn.Module):\n",
    "    def __init__(self, input_dim, output_dim):\n",
    "        super().__init__()\n",
    "        self.my_layer_1 = nn.Linear(input_dim, output_dim)\n",
    "        self.activation = nn.Sigmoid()\n",
    "\n",
    "    def forward(self, x):\n",
    "        hid1 = self.my_layer_1(x)\n",
    "        output = self.activation(hid1)\n",
    "        return output\n",
    "```\n",
    "\n",
    "This time is no different! We can now apply what we've learnt about convolutional layers into defining the network.\n",
    "\n",
    "\n",
    "Let's define a network that has three convolutional layers, followed by a final fully-connected layer for classification.\n",
    "\n",
    "💡 **Question:** Can you fill in the forward function?"
   ]
  },
  {
   "cell_type": "code",
   "execution_count": null,
   "metadata": {
    "id": "NTuSVwywV4O8"
   },
   "outputs": [],
   "source": [
    "class ConvNet(nn.Module):\n",
    "    def __init__(self, input_channels, num_classes):\n",
    "        super().__init__()\n",
    "\n",
    "        # convolutional layers\n",
    "        self.layer1 = nn.Conv2d(input_channels, 10, kernel_size=3)\n",
    "        self.layer2 = nn.Conv2d(10, 5, kernel_size=3)\n",
    "        self.layer3 = nn.Conv2d(5, 2, kernel_size=3)\n",
    "        \n",
    "        # Linear classifier\n",
    "        self.flatten = nn.Flatten(start_dim=1)\n",
    "        self.fc = nn.Linear(968, 10)\n",
    "        \n",
    "        # activations\n",
    "        self.activation = nn.ReLU()\n",
    "\n",
    "    def forward(self, x):\n",
    "        # TODO: define your forward pass\n",
    "        x = self.activation(self.layer1(x))\n",
    "        x = self.activation(self.layer2(x))\n",
    "        x = self.activation(self.layer3(x))\n",
    "\n",
    "        x = self.flatten(x)\n",
    "        \n",
    "        output = self.fc(x)\n",
    "\n",
    "        return output"
   ]
  },
  {
   "cell_type": "markdown",
   "metadata": {
    "id": "0bonZCRKdhZP"
   },
   "source": [
    "## Task 2.3 Everything Together"
   ]
  },
  {
   "cell_type": "markdown",
   "metadata": {
    "id": "HFwwHvbBhv0U"
   },
   "source": [
    "### Task 2.3a Batches"
   ]
  },
  {
   "cell_type": "markdown",
   "metadata": {
    "id": "dHCmc-3ndFye"
   },
   "source": [
    "Remember that we now have 60,000 examples in our training set, so we need to use mini-batching to train our network.  "
   ]
  },
  {
   "cell_type": "markdown",
   "metadata": {
    "id": "CdpZf7-Jy8Cl"
   },
   "source": [
    "Pytorch provides a [Dataloader](https://pytorch.org/docs/stable/data.html#torch.utils.data.DataLoader) class which allows us to conveniently do this."
   ]
  },
  {
   "cell_type": "code",
   "execution_count": null,
   "metadata": {
    "id": "h_GlQcurzgZS"
   },
   "outputs": [],
   "source": [
    "batch_size = 9\n",
    "train_loader_X = torch.utils.data.DataLoader(dataset=X_data_train,\n",
    "                                           batch_size=batch_size,\n",
    "                                           shuffle=True,\n",
    "                                           drop_last=True)"
   ]
  },
  {
   "cell_type": "markdown",
   "metadata": {
    "id": "rcXhHEjSYLpD"
   },
   "source": [
    "This will automatically generate batches (each with $B$ images) whenever we call the `train_loader_X` as part of a for loop: "
   ]
  },
  {
   "cell_type": "code",
   "execution_count": null,
   "metadata": {
    "colab": {
     "base_uri": "https://localhost:8080/"
    },
    "executionInfo": {
     "elapsed": 179,
     "status": "ok",
     "timestamp": 1627569246265,
     "user": {
      "displayName": "linde hesse",
      "photoUrl": "",
      "userId": "14232520946721195602"
     },
     "user_tz": -60
    },
    "id": "VE-iqGjRYARG",
    "outputId": "05ecde92-b965-4958-bef7-41c62c3bc3af"
   },
   "outputs": [
    {
     "name": "stdout",
     "output_type": "stream",
     "text": [
      "torch.Size([9, 1, 28, 28])\n"
     ]
    }
   ],
   "source": [
    "for batch in train_loader_X:\n",
    "  print(batch.shape) # should print (batch_size, 1, 28, 28)\n",
    "  break"
   ]
  },
  {
   "cell_type": "markdown",
   "metadata": {
    "id": "bs9KyHiWY_jE"
   },
   "source": [
    "💡 **Question:**  In total, how many batches will there be?"
   ]
  },
  {
   "cell_type": "code",
   "execution_count": null,
   "metadata": {
    "colab": {
     "base_uri": "https://localhost:8080/"
    },
    "executionInfo": {
     "elapsed": 186,
     "status": "ok",
     "timestamp": 1627569248568,
     "user": {
      "displayName": "linde hesse",
      "photoUrl": "",
      "userId": "14232520946721195602"
     },
     "user_tz": -60
    },
    "id": "hV7xmImiZDSN",
    "outputId": "1b0aeaf9-e664-4ebd-d462-6cba9b2db4b5"
   },
   "outputs": [
    {
     "name": "stdout",
     "output_type": "stream",
     "text": [
      "No. of batches =  6666\n",
      "This should equal the length of the dataloader, i.e. 6666\n"
     ]
    }
   ],
   "source": [
    "num_train_examples = len(X_data_train)\n",
    "# TODO: \n",
    "num_batches = len(X_data_train) // batch_size\n",
    "# or int(len(X_data) / batch_size) -- because drop_last = True\n",
    "\n",
    "print('No. of batches = ', num_batches)\n",
    "print('This should equal the length of the dataloader, i.e.', len(train_loader_X))"
   ]
  },
  {
   "cell_type": "markdown",
   "metadata": {
    "id": "HxRR3SnU111Z"
   },
   "source": [
    "You've seen how the dataloader works, and now we're going to use the following function to define our training and validation dataloaders.\n",
    "\n",
    "💡 **Question:** What does `transform_train` do? You might want to look [here](https://pytorch.org/vision/stable/transforms.html) for more info about `torchvision.transforms`, or [here](https://pytorch.org/vision/stable/datasets.html#mnist) about `MNIST`."
   ]
  },
  {
   "cell_type": "code",
   "execution_count": null,
   "metadata": {
    "id": "EK9h0EgK2IA1"
   },
   "outputs": [],
   "source": [
    "def get_mnist(batch_size=128):\n",
    "  \"\"\" function to make the dataloader for the train and test set\n",
    "\n",
    "      Returns:\n",
    "        train_loader: Pytorch dataloader of training data\n",
    "        test_loader: Pytorch dataloader of testing data\n",
    "\n",
    "  \"\"\"\n",
    "\n",
    "  transform_train = transforms.Compose([\n",
    "                 #   transforms.RandomCrop(size=28),\n",
    "                    transforms.RandomHorizontalFlip(),\n",
    "                    transforms.ToTensor()\n",
    "                ])\n",
    "\n",
    "  # Training dataset\n",
    "  train_data = MNIST(root='.', train=True, transform=transform_train)\n",
    "\n",
    "  # Define your data loader with specified batch_size and whether you want to shuffle dataset.\n",
    "  train_loader = torch.utils.data.DataLoader(train_data,\n",
    "                                             batch_size=batch_size,\n",
    "                                             shuffle=True,\n",
    "                                             pin_memory=True,\n",
    "                                             drop_last=True)\n",
    "\n",
    "\n",
    "  transform_test = transforms.Compose([\n",
    "                    transforms.ToTensor(),\n",
    "                ])\n",
    "  # Testing dataset\n",
    "  test_data = MNIST(root='.', train=False, transform=transform_test)\n",
    "\n",
    "  # Define your data loader with specified batch_size and whether you want to shuffle dataset.\n",
    "  test_loader = torch.utils.data.DataLoader(test_data,\n",
    "                                            batch_size=batch_size,\n",
    "                                            shuffle=False,\n",
    "                                            pin_memory=True)\n",
    "  return train_loader, test_loader"
   ]
  },
  {
   "cell_type": "code",
   "execution_count": null,
   "metadata": {
    "colab": {
     "base_uri": "https://localhost:8080/"
    },
    "executionInfo": {
     "elapsed": 3,
     "status": "ok",
     "timestamp": 1627569253027,
     "user": {
      "displayName": "linde hesse",
      "photoUrl": "",
      "userId": "14232520946721195602"
     },
     "user_tz": -60
    },
    "id": "L-HpUhiQFQBl",
    "outputId": "5888f690-39c7-459b-972b-98e84dc665d4"
   },
   "outputs": [
    {
     "name": "stdout",
     "output_type": "stream",
     "text": [
      "<class 'PIL.Image.Image'>\n",
      "<class 'torch.Tensor'>\n"
     ]
    }
   ],
   "source": [
    "# *** FOR DEMONSTRATORS ***\n",
    "# RandomCrop, RandomHorizontalFlip: data augmentation mentioned in lecture\n",
    "# without passing transforms.ToTensor(), we end up with PIL images instead of torch tensors. \n",
    "# .ToTensor() changes the range output to be [0,1]\n",
    "train_data = MNIST(root='.', train=True)\n",
    "x, y = train_data[0]\n",
    "print(type(x))\n",
    "print(type(transforms.ToTensor()(x)))"
   ]
  },
  {
   "cell_type": "markdown",
   "metadata": {
    "id": "ie6yMRnQRHEQ"
   },
   "source": [
    "Now, we can ***inspect*** our dataloader and check that it's giving us the right shapes (this might take a couple of seconds): "
   ]
  },
  {
   "cell_type": "code",
   "execution_count": null,
   "metadata": {
    "id": "LGzUOqzuF_Jn"
   },
   "outputs": [],
   "source": [
    "train_loader, test_loader = get_mnist()"
   ]
  },
  {
   "cell_type": "code",
   "execution_count": null,
   "metadata": {
    "colab": {
     "base_uri": "https://localhost:8080/"
    },
    "executionInfo": {
     "elapsed": 11949,
     "status": "ok",
     "timestamp": 1627569274485,
     "user": {
      "displayName": "linde hesse",
      "photoUrl": "",
      "userId": "14232520946721195602"
     },
     "user_tz": -60
    },
    "id": "bd7CsZVQRFMY",
    "outputId": "7d22e74e-1bb9-4d77-c3e1-6ace9ab24486"
   },
   "outputs": [
    {
     "name": "stdout",
     "output_type": "stream",
     "text": [
      "Batch Index: 0. Batch Shape: torch.Size([128, 1, 28, 28]). Target Size: torch.Size([128])\n",
      "Batch Index: 1. Batch Shape: torch.Size([128, 1, 28, 28]). Target Size: torch.Size([128])\n",
      "Batch Index: 2. Batch Shape: torch.Size([128, 1, 28, 28]). Target Size: torch.Size([128])\n",
      "Batch Index: 3. Batch Shape: torch.Size([128, 1, 28, 28]). Target Size: torch.Size([128])\n"
     ]
    }
   ],
   "source": [
    "for batch_idx, (data, target) in enumerate(train_loader):\n",
    "  print('Batch Index: {}. Batch Shape: {}. Target Size: {}'.format(batch_idx, data.shape, target.shape))\n",
    "  if batch_idx == 3:\n",
    "    break"
   ]
  },
  {
   "cell_type": "markdown",
   "metadata": {
    "id": "0Jqy-j4a6USy"
   },
   "source": [
    "### Task 2.3b Full Training Pipline"
   ]
  },
  {
   "cell_type": "markdown",
   "metadata": {
    "id": "LRAIyKetGs12"
   },
   "source": [
    "Finally, let's bring everything together to define our full training pipeline!"
   ]
  },
  {
   "cell_type": "markdown",
   "metadata": {
    "id": "1L2lt_ll6W84"
   },
   "source": [
    "***1.*** Define Dataset + Data Loader (**Done!**)\n",
    "\n",
    "\n",
    "\n"
   ]
  },
  {
   "cell_type": "code",
   "execution_count": null,
   "metadata": {
    "id": "34sSK2rdPt3i"
   },
   "outputs": [],
   "source": [
    "train_loader, test_loader = get_mnist(batch_size=128)"
   ]
  },
  {
   "cell_type": "markdown",
   "metadata": {
    "id": "v_kOPyTu6mWn"
   },
   "source": [
    "***2.*** Define Your network class (**Done in task 2.2c!**)"
   ]
  },
  {
   "cell_type": "markdown",
   "metadata": {
    "id": "czdkdtbvQqF3"
   },
   "source": [
    "***3.*** Initialize network, optimizer and all other hyper *parameters* \n",
    "\n"
   ]
  },
  {
   "cell_type": "markdown",
   "metadata": {
    "id": "nmHZ03FZW7ot"
   },
   "source": [
    "Notice below that we need to move our models and tensors to the specified device (the GPU) with `.to(device)`. Things will go wrong if our model and data are not on the same device!"
   ]
  },
  {
   "cell_type": "code",
   "execution_count": null,
   "metadata": {
    "colab": {
     "base_uri": "https://localhost:8080/"
    },
    "executionInfo": {
     "elapsed": 308,
     "status": "ok",
     "timestamp": 1627569300318,
     "user": {
      "displayName": "linde hesse",
      "photoUrl": "",
      "userId": "14232520946721195602"
     },
     "user_tz": -60
    },
    "id": "iSW-YyEzQljq",
    "outputId": "e3d4d602-e292-4d7f-b168-7d910de27216"
   },
   "outputs": [
    {
     "name": "stdout",
     "output_type": "stream",
     "text": [
      "ConvNet(\n",
      "  (layer1): Conv2d(1, 10, kernel_size=(3, 3), stride=(1, 1))\n",
      "  (layer2): Conv2d(10, 5, kernel_size=(3, 3), stride=(1, 1))\n",
      "  (layer3): Conv2d(5, 2, kernel_size=(3, 3), stride=(1, 1))\n",
      "  (flatten): Flatten(start_dim=1, end_dim=-1)\n",
      "  (fc): Linear(in_features=968, out_features=10, bias=True)\n",
      "  (activation): ReLU()\n",
      ")\n",
      "Output Size: torch.Size([5, 10])\n"
     ]
    }
   ],
   "source": [
    "device = 'cpu' # device name (default is \"cpu\") even if we did not specify this. The other option is \"cuda\". We will see this later\n",
    "input_channels = 1\n",
    "num_classes = 10 # ten digits 0-9\n",
    "model = ConvNet(input_channels, num_classes).to(device) # creating an instance of our CNN et voila!\n",
    "\n",
    "#print a summary of the network\n",
    "print(model)\n",
    "\n",
    "# Put a sample through the network and observe the output size\n",
    "x_sample = x_sample.to(device)\n",
    "print(\"Output Size:\", model(x_sample).shape)"
   ]
  },
  {
   "cell_type": "markdown",
   "metadata": {
    "id": "A15qLwfyIL4y"
   },
   "source": [
    "***4.*** Define Optimizer and Loss function\n",
    "\n",
    "Just as last time, we'll need to define these. \n",
    "We'll again use SGD as our optimizer, but for loss_function we can no longer use the `nn.BCELoss()`, i.e. Binary Cross Entropy (Why?). \n",
    "\n",
    "💡 **Task**: Search this [list](https://pytorch.org/docs/stable/nn.html#loss-functions) of loss functions to find an alternative one:\n",
    "\n",
    "\n",
    "* Hint: it should be of the form `loss_function = nn.YourChosenLoss()`"
   ]
  },
  {
   "cell_type": "code",
   "execution_count": null,
   "metadata": {
    "id": "RDT1J5jJR5hP"
   },
   "outputs": [],
   "source": [
    "# Task find a loss function to represent cross entropy loss\n",
    "\n",
    "loss_function = nn.CrossEntropyLoss()"
   ]
  },
  {
   "cell_type": "code",
   "execution_count": null,
   "metadata": {
    "id": "mzmsRjFBIaWa"
   },
   "outputs": [],
   "source": [
    "optimizer = torch.optim.SGD(model.parameters(), lr=1e-3, momentum=0.9)"
   ]
  },
  {
   "cell_type": "markdown",
   "metadata": {
    "id": "QASRyPNN7nJS"
   },
   "source": [
    "***5.*** Define the steps for training the network"
   ]
  },
  {
   "cell_type": "markdown",
   "metadata": {
    "id": "4KVifdfYTFaQ"
   },
   "source": [
    "We can make use of the `take_step` function introduced in our last lecture that trains the model with one batch of data.\n",
    "\n",
    "💡 **Task**: Modify the function below to  ensure that `model`, `x` and `labels` are located on the same device."
   ]
  },
  {
   "cell_type": "code",
   "execution_count": null,
   "metadata": {
    "id": "9w3impkPSjvv"
   },
   "outputs": [],
   "source": [
    "def take_step(model, loss_function, data, optimizer, device):\n",
    "    # unpacking our data\n",
    "    x, labels = data\n",
    "\n",
    "    # TODO: transfer tensors onto device\n",
    "    x = x.to(device)\n",
    "    labels = labels.to(device)\n",
    "\n",
    "    # Forward pass\n",
    "    preds = model(x) \n",
    "\n",
    "    loss = loss_function(preds, labels) \n",
    "\n",
    "    # Backward pass\n",
    "    # For each parameter PyTorch accumulates gradients in one place, so we need to make sure to initialise them to 0\n",
    "    optimizer.zero_grad() \n",
    "\n",
    "    # Compute the gradient\n",
    "    loss.backward()\n",
    "\n",
    "    # take a gradient step\n",
    "    optimizer.step()\n",
    "\n",
    "    return model, loss"
   ]
  },
  {
   "cell_type": "markdown",
   "metadata": {
    "id": "izaDoPyTUENY"
   },
   "source": [
    "In one **epoch**, we loop through the entire training dataset to optimize the network. \n",
    "\n",
    "💡 **Task**: Complete the code below."
   ]
  },
  {
   "cell_type": "code",
   "execution_count": null,
   "metadata": {
    "id": "ttMOxBVe7st1"
   },
   "outputs": [],
   "source": [
    "def train_one_epoch(epoch, model, train_loader, optimizer, loss_function, device, print_freq):\n",
    "  \n",
    "  model = model.train()\n",
    "\n",
    "  for batch_idx, data in enumerate(train_loader):\n",
    "      # TO-DO: call the take_step function  \n",
    "      model, loss = take_step(model, loss_function, data, optimizer, device)\n",
    "\n",
    "      # report progress\n",
    "      if batch_idx % print_freq == 0:\n",
    "          print(\n",
    "              '+ Epoch: {}. Iter: [{}/{} ({:.0f}%)]. Loss: {:.5f}.'\n",
    "              .format(\n",
    "                  epoch,\n",
    "                  batch_idx * len(data[0]),\n",
    "                  len(train_loader.dataset),\n",
    "                  100. * batch_idx / len(train_loader),\n",
    "                  loss / len(data[0]),\n",
    "              ),\n",
    "              flush=True)"
   ]
  },
  {
   "cell_type": "markdown",
   "metadata": {
    "id": "nhpw0dWd8gqR"
   },
   "source": [
    "***6.*** Monitoring test performance"
   ]
  },
  {
   "cell_type": "markdown",
   "metadata": {
    "id": "JlWbt9V2VK2I"
   },
   "source": [
    "We would also like to monitor the test (or validation) performance as we're training the network, and we define this function to do that:"
   ]
  },
  {
   "cell_type": "code",
   "execution_count": null,
   "metadata": {
    "id": "lnUexc6A8bFw"
   },
   "outputs": [],
   "source": [
    "def eval_test(model, test_loader, loss_function, epoch, device):\n",
    "    model.eval()\n",
    "    test_loss = 0\n",
    "    correct = 0\n",
    "\n",
    "    with torch.no_grad():\n",
    "        for data in test_loader:\n",
    "          x, labels = data\n",
    "\n",
    "          # Move data and labels onto device\n",
    "          x = x.to(device)\n",
    "          labels = labels.to(device)\n",
    "\n",
    "          # Forward pass\n",
    "          logits = model(x)\n",
    "\n",
    "          # Accumulate test loss over all samples\n",
    "          test_loss += loss_function(logits, labels).item()\n",
    "\n",
    "          #  Monitor number of correctly classified samples\n",
    "          correct += (logits.max(1)[1] == labels).sum().item()\n",
    "\n",
    "    # compute average loss\n",
    "    test_loss /= len(test_loader.dataset)\n",
    "\n",
    "    # compute total accuracy\n",
    "    test_accuracy = 100. * correct / len(test_loader.dataset)\n",
    "\n",
    "    # printing\n",
    "    print('Test: Average Loss: {:.4f}, Accuracy: {}/{} ({:.0f})%)'.format(\n",
    "        test_loss, correct, len(test_loader.dataset), test_accuracy)\n",
    "        )\n",
    "    return test_loss, test_accuracy\n"
   ]
  },
  {
   "cell_type": "markdown",
   "metadata": {
    "id": "z4hPE6sS8KMi"
   },
   "source": [
    "***7.*** Loop over number of epochs to train your network!"
   ]
  },
  {
   "cell_type": "code",
   "execution_count": null,
   "metadata": {
    "colab": {
     "base_uri": "https://localhost:8080/"
    },
    "executionInfo": {
     "elapsed": 120584,
     "status": "ok",
     "timestamp": 1627569451079,
     "user": {
      "displayName": "linde hesse",
      "photoUrl": "",
      "userId": "14232520946721195602"
     },
     "user_tz": -60
    },
    "id": "m3nmbejQ8PGR",
    "outputId": "91f2ada8-beaa-498b-937c-58ac7504706b"
   },
   "outputs": [
    {
     "name": "stdout",
     "output_type": "stream",
     "text": [
      "+ Epoch: 0. Iter: [0/60000 (0%)]. Loss: 0.01801.\n",
      "+ Epoch: 0. Iter: [12800/60000 (21%)]. Loss: 0.01799.\n",
      "+ Epoch: 0. Iter: [25600/60000 (43%)]. Loss: 0.01797.\n",
      "+ Epoch: 0. Iter: [38400/60000 (64%)]. Loss: 0.01798.\n",
      "+ Epoch: 0. Iter: [51200/60000 (85%)]. Loss: 0.01798.\n",
      "Time to process one full epoch: 22.520 seconds\n",
      "Test: Average Loss: 0.0182, Accuracy: 1135/10000 (11)%)\n",
      "+ Epoch: 1. Iter: [0/60000 (0%)]. Loss: 0.01797.\n",
      "+ Epoch: 1. Iter: [12800/60000 (21%)]. Loss: 0.01798.\n",
      "+ Epoch: 1. Iter: [25600/60000 (43%)]. Loss: 0.01798.\n",
      "+ Epoch: 1. Iter: [38400/60000 (64%)]. Loss: 0.01798.\n",
      "+ Epoch: 1. Iter: [51200/60000 (85%)]. Loss: 0.01797.\n",
      "Time to process one full epoch: 21.507 seconds\n",
      "Test: Average Loss: 0.0182, Accuracy: 1135/10000 (11)%)\n",
      "+ Epoch: 2. Iter: [0/60000 (0%)]. Loss: 0.01797.\n",
      "+ Epoch: 2. Iter: [12800/60000 (21%)]. Loss: 0.01800.\n",
      "+ Epoch: 2. Iter: [25600/60000 (43%)]. Loss: 0.01797.\n",
      "+ Epoch: 2. Iter: [38400/60000 (64%)]. Loss: 0.01799.\n",
      "+ Epoch: 2. Iter: [51200/60000 (85%)]. Loss: 0.01800.\n",
      "Time to process one full epoch: 23.327 seconds\n",
      "Test: Average Loss: 0.0182, Accuracy: 1135/10000 (11)%)\n",
      "+ Epoch: 3. Iter: [0/60000 (0%)]. Loss: 0.01796.\n",
      "+ Epoch: 3. Iter: [12800/60000 (21%)]. Loss: 0.01800.\n",
      "+ Epoch: 3. Iter: [25600/60000 (43%)]. Loss: 0.01796.\n",
      "+ Epoch: 3. Iter: [38400/60000 (64%)]. Loss: 0.01798.\n",
      "+ Epoch: 3. Iter: [51200/60000 (85%)]. Loss: 0.01800.\n",
      "Time to process one full epoch: 23.257 seconds\n",
      "Test: Average Loss: 0.0182, Accuracy: 1135/10000 (11)%)\n",
      "+ Epoch: 4. Iter: [0/60000 (0%)]. Loss: 0.01802.\n",
      "+ Epoch: 4. Iter: [12800/60000 (21%)]. Loss: 0.01804.\n",
      "+ Epoch: 4. Iter: [25600/60000 (43%)]. Loss: 0.01801.\n",
      "+ Epoch: 4. Iter: [38400/60000 (64%)]. Loss: 0.01794.\n",
      "+ Epoch: 4. Iter: [51200/60000 (85%)]. Loss: 0.01793.\n",
      "Time to process one full epoch: 22.934 seconds\n",
      "Test: Average Loss: 0.0182, Accuracy: 1135/10000 (11)%)\n"
     ]
    }
   ],
   "source": [
    "epoch_init = 0\n",
    "num_epochs = 5\n",
    "for epoch in range(epoch_init, num_epochs):\n",
    "  start = time.time()\n",
    "  train_one_epoch(epoch, model, train_loader, optimizer, loss_function, device, 100)\n",
    "  end = time.time()\n",
    "  print(\"Time to process one full epoch: {:.3f} seconds\".format(end - start))\n",
    "  eval_test(model, test_loader, loss_function, epoch, device)"
   ]
  },
  {
   "cell_type": "markdown",
   "metadata": {
    "id": "vNLRfnPr55Mo"
   },
   "source": [
    "Notice how slow the training is. How about speeding up significantly with minimal code changes? As we set our hardware acceleration to 'GPU' at the beginning of the notebook, we can now use this to speed up our code! Follow the simple two steps below to change training from the CPU to the GPU. \n",
    "\n",
    "1. Make sure you change the `device=\"cpu\"` to `device=\"cuda\"` as below.\n",
    "2. Rerun your code again and enjoy acceleration 💃💃💃💃💃\n",
    "\n"
   ]
  },
  {
   "cell_type": "code",
   "execution_count": null,
   "metadata": {
    "colab": {
     "base_uri": "https://localhost:8080/"
    },
    "executionInfo": {
     "elapsed": 36865,
     "status": "ok",
     "timestamp": 1627569560860,
     "user": {
      "displayName": "linde hesse",
      "photoUrl": "",
      "userId": "14232520946721195602"
     },
     "user_tz": -60
    },
    "id": "Zn5NVqjq7E8V",
    "outputId": "ff028b6a-204e-4975-c283-0f81cdce6352"
   },
   "outputs": [
    {
     "name": "stdout",
     "output_type": "stream",
     "text": [
      "+ Epoch: 0. Iter: [0/60000 (0%)]. Loss: 0.01798.\n",
      "+ Epoch: 0. Iter: [12800/60000 (21%)]. Loss: 0.01796.\n",
      "+ Epoch: 0. Iter: [25600/60000 (43%)]. Loss: 0.01801.\n",
      "+ Epoch: 0. Iter: [38400/60000 (64%)]. Loss: 0.01796.\n",
      "+ Epoch: 0. Iter: [51200/60000 (85%)]. Loss: 0.01794.\n",
      "Time to process one full epoch: 6.488 seconds\n",
      "Test: Average Loss: 0.0182, Accuracy: 982/10000 (10)%)\n",
      "+ Epoch: 1. Iter: [0/60000 (0%)]. Loss: 0.01804.\n",
      "+ Epoch: 1. Iter: [12800/60000 (21%)]. Loss: 0.01798.\n",
      "+ Epoch: 1. Iter: [25600/60000 (43%)]. Loss: 0.01798.\n",
      "+ Epoch: 1. Iter: [38400/60000 (64%)]. Loss: 0.01797.\n",
      "+ Epoch: 1. Iter: [51200/60000 (85%)]. Loss: 0.01794.\n",
      "Time to process one full epoch: 6.299 seconds\n",
      "Test: Average Loss: 0.0182, Accuracy: 982/10000 (10)%)\n",
      "+ Epoch: 2. Iter: [0/60000 (0%)]. Loss: 0.01798.\n",
      "+ Epoch: 2. Iter: [12800/60000 (21%)]. Loss: 0.01797.\n",
      "+ Epoch: 2. Iter: [25600/60000 (43%)]. Loss: 0.01806.\n",
      "+ Epoch: 2. Iter: [38400/60000 (64%)]. Loss: 0.01793.\n",
      "+ Epoch: 2. Iter: [51200/60000 (85%)]. Loss: 0.01800.\n",
      "Time to process one full epoch: 6.361 seconds\n",
      "Test: Average Loss: 0.0182, Accuracy: 982/10000 (10)%)\n",
      "+ Epoch: 3. Iter: [0/60000 (0%)]. Loss: 0.01797.\n",
      "+ Epoch: 3. Iter: [12800/60000 (21%)]. Loss: 0.01803.\n",
      "+ Epoch: 3. Iter: [25600/60000 (43%)]. Loss: 0.01793.\n",
      "+ Epoch: 3. Iter: [38400/60000 (64%)]. Loss: 0.01796.\n",
      "+ Epoch: 3. Iter: [51200/60000 (85%)]. Loss: 0.01799.\n",
      "Time to process one full epoch: 6.743 seconds\n",
      "Test: Average Loss: 0.0182, Accuracy: 982/10000 (10)%)\n",
      "+ Epoch: 4. Iter: [0/60000 (0%)]. Loss: 0.01794.\n",
      "+ Epoch: 4. Iter: [12800/60000 (21%)]. Loss: 0.01806.\n",
      "+ Epoch: 4. Iter: [25600/60000 (43%)]. Loss: 0.01804.\n",
      "+ Epoch: 4. Iter: [38400/60000 (64%)]. Loss: 0.01793.\n",
      "+ Epoch: 4. Iter: [51200/60000 (85%)]. Loss: 0.01798.\n",
      "Time to process one full epoch: 6.811 seconds\n",
      "Test: Average Loss: 0.0182, Accuracy: 982/10000 (10)%)\n"
     ]
    }
   ],
   "source": [
    "device = 'cuda' # or change to 'cpu' if encounter RuntimeError: No CUDA GPUs are available\n",
    "model = ConvNet(input_channels=1, num_classes=10).to(device) # creating an instance of our CNN et voila!\n",
    "\n",
    "optimizer = torch.optim.SGD(model.parameters(), lr=1e-3, momentum=0.9)\n",
    "\n",
    "epoch_init = 0\n",
    "num_epochs = 5\n",
    "for epoch in range(epoch_init, num_epochs):\n",
    "  start = time.time()\n",
    "  train_one_epoch(epoch, model, train_loader, optimizer, loss_function, device, 100)\n",
    "  end = time.time()\n",
    "  print(\"Time to process one full epoch: {:.3f} seconds\".format(end - start))\n",
    "  eval_test(model, test_loader, loss_function, epoch, device)"
   ]
  },
  {
   "cell_type": "markdown",
   "metadata": {
    "id": "v3h5ECg50On3"
   },
   "source": [
    "Can you now observe the difference in training time between 'cpu' and 'gpu' training? "
   ]
  },
  {
   "cell_type": "markdown",
   "metadata": {
    "id": "5gMESG_nVDrY"
   },
   "source": [
    "# Extensions 🚀\n",
    "\n"
   ]
  },
  {
   "cell_type": "markdown",
   "metadata": {
    "id": "IW-rpcWYBaPU"
   },
   "source": [
    "If you're keen to practise more, read on for  some suggestions from us :)"
   ]
  },
  {
   "cell_type": "markdown",
   "metadata": {
    "id": "_87ZnH2JTtu-"
   },
   "source": [
    "## How to improve your model performance?\n",
    "\n",
    "**Optimize model architecture**\n",
    "*   Add max-pool layers between convolutional layers\n",
    "*   Add additional convolutional layers\n",
    "*   Add more fc layers\n",
    "*   Use developed model architectures from the literature (i.e. VGGnet, ResNet)\n",
    "\n",
    "**Optimize training**\n",
    "*   Use a different optimizer (i.e. Adam instead of SGD)\n",
    "*   Change the learning rate \n",
    "*   Train for more epochs\n",
    "*    Change loss (dependant on task)\n",
    "\n",
    "\n",
    "\n",
    "\n",
    "\n",
    "\n",
    "\n",
    "\n"
   ]
  },
  {
   "cell_type": "markdown",
   "metadata": {
    "id": "Z_MvHLfqTh_-"
   },
   "source": [
    "## Alternate dataset: Fashion-MNIST\n",
    "\n",
    "[List of all available datasets in pytorch](https://pytorch.org/vision/0.8/datasets.html)\n",
    "\n",
    "**Classes of Fashion-MNIST**\n",
    "*   0: T-shirt/top\n",
    "*   1: Trouser\n",
    "*   2: Pullover\n",
    "*   3: Dress\n",
    "*   4: Coat\n",
    "*   5: Sandal\n",
    "*   6: Shirt\n",
    "*   7: Sneaker\n",
    "*   8: Bag\n",
    "*   9: Ankle boot"
   ]
  },
  {
   "cell_type": "code",
   "execution_count": null,
   "metadata": {
    "colab": {
     "base_uri": "https://localhost:8080/",
     "height": 539,
     "referenced_widgets": [
      "64475e66bbee4ff693df91521a2907bb",
      "97f009bdc6cf470bb04bc230ac3eba53",
      "17e5b1cc69564a10acdeb90529859029",
      "511143660313486eaa5c6b632a0d6199",
      "0a5dccd12eb44821aaef24cff11272d6",
      "b1f35afc1b73478f96132f916a7a0b8a",
      "eba0b1d965974cd6b295b93dc57b9e83",
      "fd31759de266401abe104c5456ebccd4",
      "73ced2954a47415a8ac97dbd1f6e9880",
      "7bf54ddeb39e4bd696b72700bd800642",
      "8f6f9b832bc34400ac705fc99b73b4e8",
      "c1ab2a706cb34cd982ba26e20f6f5ece",
      "73e7419463464be2b66a381cdf0c04a1",
      "d5d4e4ad39ba48d7a3c09fd4e7308059",
      "0400cff058b049789cd473165d3ebde1",
      "0753fbb3809f469bad1b9b54b9322f94",
      "5cd40ef8c5a54498adf834fff16eb865",
      "ddd40654091b430fa8445c2f2686ecd0",
      "52abdd7fc96e4396a4a077cbc1e8a234",
      "df736d170a4442568d9272c4ea38bc82",
      "0ec18e2b319f4710a15fd7d32071e1bb",
      "97b489fb9e274014bce8cc6ca427a9cd",
      "d37d1f7260a7401d88e9571690220b69",
      "d83a9df20ca1455e84f90baeed95efe4",
      "6c2576f9ed094634890f5d66a61615c1",
      "07ddef03613c43b7abe5ea31a7809112",
      "0765f70a55724c8e8df6883179ee355b",
      "570ee187b4894d329702b8040180eb48",
      "496336ccca6843ca88767dbd30e9adf0",
      "8d9216cbbfea4774a648218682aca63d",
      "6c0f16cf47e741caa779610d64411470",
      "27456ef26d744892842d1c2c970328d4"
     ]
    },
    "executionInfo": {
     "elapsed": 7537,
     "status": "ok",
     "timestamp": 1627569574395,
     "user": {
      "displayName": "linde hesse",
      "photoUrl": "",
      "userId": "14232520946721195602"
     },
     "user_tz": -60
    },
    "id": "DiHDdO-lVGA9",
    "outputId": "3ca7eba8-c69d-438f-e779-39fd797322d9"
   },
   "outputs": [
    {
     "name": "stdout",
     "output_type": "stream",
     "text": [
      "Downloading http://fashion-mnist.s3-website.eu-central-1.amazonaws.com/train-images-idx3-ubyte.gz\n",
      "Downloading http://fashion-mnist.s3-website.eu-central-1.amazonaws.com/train-images-idx3-ubyte.gz to /root/FashionMNIST/FashionMNIST/raw/train-images-idx3-ubyte.gz\n"
     ]
    },
    {
     "data": {
      "application/vnd.jupyter.widget-view+json": {
       "model_id": "64475e66bbee4ff693df91521a2907bb",
       "version_major": 2,
       "version_minor": 0
      },
      "text/plain": [
       "HBox(children=(FloatProgress(value=0.0, max=26421880.0), HTML(value='')))"
      ]
     },
     "metadata": {
      "tags": []
     },
     "output_type": "display_data"
    },
    {
     "name": "stdout",
     "output_type": "stream",
     "text": [
      "\n",
      "Extracting /root/FashionMNIST/FashionMNIST/raw/train-images-idx3-ubyte.gz to /root/FashionMNIST/FashionMNIST/raw\n",
      "\n",
      "Downloading http://fashion-mnist.s3-website.eu-central-1.amazonaws.com/train-labels-idx1-ubyte.gz\n",
      "Downloading http://fashion-mnist.s3-website.eu-central-1.amazonaws.com/train-labels-idx1-ubyte.gz to /root/FashionMNIST/FashionMNIST/raw/train-labels-idx1-ubyte.gz\n"
     ]
    },
    {
     "data": {
      "application/vnd.jupyter.widget-view+json": {
       "model_id": "73ced2954a47415a8ac97dbd1f6e9880",
       "version_major": 2,
       "version_minor": 0
      },
      "text/plain": [
       "HBox(children=(FloatProgress(value=0.0, max=29515.0), HTML(value='')))"
      ]
     },
     "metadata": {
      "tags": []
     },
     "output_type": "display_data"
    },
    {
     "name": "stdout",
     "output_type": "stream",
     "text": [
      "\n",
      "Extracting /root/FashionMNIST/FashionMNIST/raw/train-labels-idx1-ubyte.gz to /root/FashionMNIST/FashionMNIST/raw\n",
      "\n",
      "Downloading http://fashion-mnist.s3-website.eu-central-1.amazonaws.com/t10k-images-idx3-ubyte.gz\n",
      "Downloading http://fashion-mnist.s3-website.eu-central-1.amazonaws.com/t10k-images-idx3-ubyte.gz to /root/FashionMNIST/FashionMNIST/raw/t10k-images-idx3-ubyte.gz\n"
     ]
    },
    {
     "data": {
      "application/vnd.jupyter.widget-view+json": {
       "model_id": "5cd40ef8c5a54498adf834fff16eb865",
       "version_major": 2,
       "version_minor": 0
      },
      "text/plain": [
       "HBox(children=(FloatProgress(value=0.0, max=4422102.0), HTML(value='')))"
      ]
     },
     "metadata": {
      "tags": []
     },
     "output_type": "display_data"
    },
    {
     "name": "stdout",
     "output_type": "stream",
     "text": [
      "\n",
      "Extracting /root/FashionMNIST/FashionMNIST/raw/t10k-images-idx3-ubyte.gz to /root/FashionMNIST/FashionMNIST/raw\n",
      "\n",
      "Downloading http://fashion-mnist.s3-website.eu-central-1.amazonaws.com/t10k-labels-idx1-ubyte.gz\n",
      "Downloading http://fashion-mnist.s3-website.eu-central-1.amazonaws.com/t10k-labels-idx1-ubyte.gz to /root/FashionMNIST/FashionMNIST/raw/t10k-labels-idx1-ubyte.gz\n"
     ]
    },
    {
     "data": {
      "application/vnd.jupyter.widget-view+json": {
       "model_id": "6c2576f9ed094634890f5d66a61615c1",
       "version_major": 2,
       "version_minor": 0
      },
      "text/plain": [
       "HBox(children=(FloatProgress(value=0.0, max=5148.0), HTML(value='')))"
      ]
     },
     "metadata": {
      "tags": []
     },
     "output_type": "display_data"
    },
    {
     "name": "stdout",
     "output_type": "stream",
     "text": [
      "\n",
      "Extracting /root/FashionMNIST/FashionMNIST/raw/t10k-labels-idx1-ubyte.gz to /root/FashionMNIST/FashionMNIST/raw\n",
      "\n"
     ]
    },
    {
     "name": "stderr",
     "output_type": "stream",
     "text": [
      "/usr/local/lib/python3.7/dist-packages/torchvision/datasets/mnist.py:498: UserWarning: The given NumPy array is not writeable, and PyTorch does not support non-writeable tensors. This means you can write to the underlying (supposedly non-writeable) NumPy array using the tensor. You may want to copy the array to protect its data or make it writeable before converting it to a tensor. This type of warning will be suppressed for the rest of this program. (Triggered internally at  /pytorch/torch/csrc/utils/tensor_numpy.cpp:180.)\n",
      "  return torch.from_numpy(parsed.astype(m[2], copy=False)).view(*s)\n"
     ]
    }
   ],
   "source": [
    "from pathlib import Path\n",
    "\n",
    "from torchvision.datasets import FashionMNIST\n",
    "\n",
    "data_path = Path.home() / './FashionMNIST'\n",
    "\n",
    "# Load dataset\n",
    "train_fashionmnist = FashionMNIST(data_path, train=True, download=True)\n",
    "x_train = train_fashionmnist.data.float()\n",
    "y_train = train_fashionmnist.targets\n",
    "\n",
    "test_fashionmnist = FashionMNIST(data_path, train=False, download=True)\n",
    "x_test = test_fashionmnist.data.float()\n",
    "y_test = test_fashionmnist.targets"
   ]
  },
  {
   "cell_type": "code",
   "execution_count": null,
   "metadata": {
    "colab": {
     "base_uri": "https://localhost:8080/",
     "height": 591
    },
    "executionInfo": {
     "elapsed": 2232,
     "status": "ok",
     "timestamp": 1627569587842,
     "user": {
      "displayName": "linde hesse",
      "photoUrl": "",
      "userId": "14232520946721195602"
     },
     "user_tz": -60
    },
    "id": "fwf2kuEnKVlI",
    "outputId": "89befbcb-ad8a-4217-986e-da7e2c9fc909"
   },
   "outputs": [
    {
     "data": {
      "image/png": "[encoded data removed]",
      "text/plain": [
       "<Figure size 720x720 with 25 Axes>"
      ]
     },
     "metadata": {
      "needs_background": "light",
      "tags": []
     },
     "output_type": "display_data"
    }
   ],
   "source": [
    "from random import randint\n",
    "import matplotlib.pyplot as plt \n",
    "\n",
    "plt.figure(figsize=(10,10)) # specifying the overall grid size\n",
    "\n",
    "num_images = 25\n",
    "for i in range(num_images):\n",
    "  plt.subplot(5,5,i+1)    # the number of images in the grid is 5*5 (25)\n",
    "  idx = randint(0,len(x_train)-1)\n",
    "  plt.imshow(x_train[idx,:,:].squeeze(), cmap='gray')\n",
    "  plt.title(str(y_train[idx].numpy()))\n",
    "  plt.axis('off')\n",
    "plt.show()"
   ]
  },
  {
   "cell_type": "code",
   "execution_count": null,
   "metadata": {
    "id": "un2E81tWtPwM"
   },
   "outputs": [],
   "source": []
  }
 ],
 "metadata": {
  "accelerator": "GPU",
  "colab": {
   "provenance": [
    {
     "file_id": "1LemOzQanaQYnNDn0jlrc_JTpYyrZ9UA4",
     "timestamp": 1619035892349
    }
   ]
  },
  "kernelspec": {
   "display_name": "Python 3 (ipykernel)",
   "language": "python",
   "name": "python3"
  },
  "language_info": {
   "codemirror_mode": {
    "name": "ipython",
    "version": 3
   },
   "file_extension": ".py",
   "mimetype": "text/x-python",
   "name": "python",
   "nbconvert_exporter": "python",
   "pygments_lexer": "ipython3",
   "version": "3.10.9"
  },
  "widgets": {
   "application/vnd.jupyter.widget-state+json": {
    "0400cff058b049789cd473165d3ebde1": {
     "model_module": "@jupyter-widgets/controls",
     "model_module_version": "1.5.0",
     "model_name": "DescriptionStyleModel",
     "state": {
      "_model_module": "@jupyter-widgets/controls",
      "_model_module_version": "1.5.0",
      "_model_name": "DescriptionStyleModel",
      "_view_count": null,
      "_view_module": "@jupyter-widgets/base",
      "_view_module_version": "1.2.0",
      "_view_name": "StyleView",
      "description_width": ""
     }
    },
    "0753fbb3809f469bad1b9b54b9322f94": {
     "model_module": "@jupyter-widgets/base",
     "model_module_version": "1.2.0",
     "model_name": "LayoutModel",
     "state": {
      "_model_module": "@jupyter-widgets/base",
      "_model_module_version": "1.2.0",
      "_model_name": "LayoutModel",
      "_view_count": null,
      "_view_module": "@jupyter-widgets/base",
      "_view_module_version": "1.2.0",
      "_view_name": "LayoutView",
      "align_content": null,
      "align_items": null,
      "align_self": null,
      "border": null,
      "bottom": null,
      "display": null,
      "flex": null,
      "flex_flow": null,
      "grid_area": null,
      "grid_auto_columns": null,
      "grid_auto_flow": null,
      "grid_auto_rows": null,
      "grid_column": null,
      "grid_gap": null,
      "grid_row": null,
      "grid_template_areas": null,
      "grid_template_columns": null,
      "grid_template_rows": null,
      "height": null,
      "justify_content": null,
      "justify_items": null,
      "left": null,
      "margin": null,
      "max_height": null,
      "max_width": null,
      "min_height": null,
      "min_width": null,
      "object_fit": null,
      "object_position": null,
      "order": null,
      "overflow": null,
      "overflow_x": null,
      "overflow_y": null,
      "padding": null,
      "right": null,
      "top": null,
      "visibility": null,
      "width": null
     }
    },
    "0765f70a55724c8e8df6883179ee355b": {
     "model_module": "@jupyter-widgets/controls",
     "model_module_version": "1.5.0",
     "model_name": "FloatProgressModel",
     "state": {
      "_dom_classes": [],
      "_model_module": "@jupyter-widgets/controls",
      "_model_module_version": "1.5.0",
      "_model_name": "FloatProgressModel",
      "_view_count": null,
      "_view_module": "@jupyter-widgets/controls",
      "_view_module_version": "1.5.0",
      "_view_name": "ProgressView",
      "bar_style": "success",
      "description": "",
      "description_tooltip": null,
      "layout": "IPY_MODEL_8d9216cbbfea4774a648218682aca63d",
      "max": 5148,
      "min": 0,
      "orientation": "horizontal",
      "style": "IPY_MODEL_496336ccca6843ca88767dbd30e9adf0",
      "value": 5148
     }
    },
    "07ddef03613c43b7abe5ea31a7809112": {
     "model_module": "@jupyter-widgets/base",
     "model_module_version": "1.2.0",
     "model_name": "LayoutModel",
     "state": {
      "_model_module": "@jupyter-widgets/base",
      "_model_module_version": "1.2.0",
      "_model_name": "LayoutModel",
      "_view_count": null,
      "_view_module": "@jupyter-widgets/base",
      "_view_module_version": "1.2.0",
      "_view_name": "LayoutView",
      "align_content": null,
      "align_items": null,
      "align_self": null,
      "border": null,
      "bottom": null,
      "display": null,
      "flex": null,
      "flex_flow": null,
      "grid_area": null,
      "grid_auto_columns": null,
      "grid_auto_flow": null,
      "grid_auto_rows": null,
      "grid_column": null,
      "grid_gap": null,
      "grid_row": null,
      "grid_template_areas": null,
      "grid_template_columns": null,
      "grid_template_rows": null,
      "height": null,
      "justify_content": null,
      "justify_items": null,
      "left": null,
      "margin": null,
      "max_height": null,
      "max_width": null,
      "min_height": null,
      "min_width": null,
      "object_fit": null,
      "object_position": null,
      "order": null,
      "overflow": null,
      "overflow_x": null,
      "overflow_y": null,
      "padding": null,
      "right": null,
      "top": null,
      "visibility": null,
      "width": null
     }
    },
    "0a5dccd12eb44821aaef24cff11272d6": {
     "model_module": "@jupyter-widgets/controls",
     "model_module_version": "1.5.0",
     "model_name": "ProgressStyleModel",
     "state": {
      "_model_module": "@jupyter-widgets/controls",
      "_model_module_version": "1.5.0",
      "_model_name": "ProgressStyleModel",
      "_view_count": null,
      "_view_module": "@jupyter-widgets/base",
      "_view_module_version": "1.2.0",
      "_view_name": "StyleView",
      "bar_color": null,
      "description_width": "initial"
     }
    },
    "0ec18e2b319f4710a15fd7d32071e1bb": {
     "model_module": "@jupyter-widgets/controls",
     "model_module_version": "1.5.0",
     "model_name": "ProgressStyleModel",
     "state": {
      "_model_module": "@jupyter-widgets/controls",
      "_model_module_version": "1.5.0",
      "_model_name": "ProgressStyleModel",
      "_view_count": null,
      "_view_module": "@jupyter-widgets/base",
      "_view_module_version": "1.2.0",
      "_view_name": "StyleView",
      "bar_color": null,
      "description_width": "initial"
     }
    },
    "17e5b1cc69564a10acdeb90529859029": {
     "model_module": "@jupyter-widgets/controls",
     "model_module_version": "1.5.0",
     "model_name": "FloatProgressModel",
     "state": {
      "_dom_classes": [],
      "_model_module": "@jupyter-widgets/controls",
      "_model_module_version": "1.5.0",
      "_model_name": "FloatProgressModel",
      "_view_count": null,
      "_view_module": "@jupyter-widgets/controls",
      "_view_module_version": "1.5.0",
      "_view_name": "ProgressView",
      "bar_style": "success",
      "description": "",
      "description_tooltip": null,
      "layout": "IPY_MODEL_b1f35afc1b73478f96132f916a7a0b8a",
      "max": 26421880,
      "min": 0,
      "orientation": "horizontal",
      "style": "IPY_MODEL_0a5dccd12eb44821aaef24cff11272d6",
      "value": 26421880
     }
    },
    "27456ef26d744892842d1c2c970328d4": {
     "model_module": "@jupyter-widgets/base",
     "model_module_version": "1.2.0",
     "model_name": "LayoutModel",
     "state": {
      "_model_module": "@jupyter-widgets/base",
      "_model_module_version": "1.2.0",
      "_model_name": "LayoutModel",
      "_view_count": null,
      "_view_module": "@jupyter-widgets/base",
      "_view_module_version": "1.2.0",
      "_view_name": "LayoutView",
      "align_content": null,
      "align_items": null,
      "align_self": null,
      "border": null,
      "bottom": null,
      "display": null,
      "flex": null,
      "flex_flow": null,
      "grid_area": null,
      "grid_auto_columns": null,
      "grid_auto_flow": null,
      "grid_auto_rows": null,
      "grid_column": null,
      "grid_gap": null,
      "grid_row": null,
      "grid_template_areas": null,
      "grid_template_columns": null,
      "grid_template_rows": null,
      "height": null,
      "justify_content": null,
      "justify_items": null,
      "left": null,
      "margin": null,
      "max_height": null,
      "max_width": null,
      "min_height": null,
      "min_width": null,
      "object_fit": null,
      "object_position": null,
      "order": null,
      "overflow": null,
      "overflow_x": null,
      "overflow_y": null,
      "padding": null,
      "right": null,
      "top": null,
      "visibility": null,
      "width": null
     }
    },
    "496336ccca6843ca88767dbd30e9adf0": {
     "model_module": "@jupyter-widgets/controls",
     "model_module_version": "1.5.0",
     "model_name": "ProgressStyleModel",
     "state": {
      "_model_module": "@jupyter-widgets/controls",
      "_model_module_version": "1.5.0",
      "_model_name": "ProgressStyleModel",
      "_view_count": null,
      "_view_module": "@jupyter-widgets/base",
      "_view_module_version": "1.2.0",
      "_view_name": "StyleView",
      "bar_color": null,
      "description_width": "initial"
     }
    },
    "511143660313486eaa5c6b632a0d6199": {
     "model_module": "@jupyter-widgets/controls",
     "model_module_version": "1.5.0",
     "model_name": "HTMLModel",
     "state": {
      "_dom_classes": [],
      "_model_module": "@jupyter-widgets/controls",
      "_model_module_version": "1.5.0",
      "_model_name": "HTMLModel",
      "_view_count": null,
      "_view_module": "@jupyter-widgets/controls",
      "_view_module_version": "1.5.0",
      "_view_name": "HTMLView",
      "description": "",
      "description_tooltip": null,
      "layout": "IPY_MODEL_fd31759de266401abe104c5456ebccd4",
      "placeholder": "​",
      "style": "IPY_MODEL_eba0b1d965974cd6b295b93dc57b9e83",
      "value": " 26422272/? [00:18&lt;00:00, 1461314.16it/s]"
     }
    },
    "52abdd7fc96e4396a4a077cbc1e8a234": {
     "model_module": "@jupyter-widgets/controls",
     "model_module_version": "1.5.0",
     "model_name": "FloatProgressModel",
     "state": {
      "_dom_classes": [],
      "_model_module": "@jupyter-widgets/controls",
      "_model_module_version": "1.5.0",
      "_model_name": "FloatProgressModel",
      "_view_count": null,
      "_view_module": "@jupyter-widgets/controls",
      "_view_module_version": "1.5.0",
      "_view_name": "ProgressView",
      "bar_style": "success",
      "description": "",
      "description_tooltip": null,
      "layout": "IPY_MODEL_97b489fb9e274014bce8cc6ca427a9cd",
      "max": 4422102,
      "min": 0,
      "orientation": "horizontal",
      "style": "IPY_MODEL_0ec18e2b319f4710a15fd7d32071e1bb",
      "value": 4422102
     }
    },
    "570ee187b4894d329702b8040180eb48": {
     "model_module": "@jupyter-widgets/controls",
     "model_module_version": "1.5.0",
     "model_name": "HTMLModel",
     "state": {
      "_dom_classes": [],
      "_model_module": "@jupyter-widgets/controls",
      "_model_module_version": "1.5.0",
      "_model_name": "HTMLModel",
      "_view_count": null,
      "_view_module": "@jupyter-widgets/controls",
      "_view_module_version": "1.5.0",
      "_view_name": "HTMLView",
      "description": "",
      "description_tooltip": null,
      "layout": "IPY_MODEL_27456ef26d744892842d1c2c970328d4",
      "placeholder": "​",
      "style": "IPY_MODEL_6c0f16cf47e741caa779610d64411470",
      "value": " 6144/? [00:11&lt;00:00, 525.63it/s]"
     }
    },
    "5cd40ef8c5a54498adf834fff16eb865": {
     "model_module": "@jupyter-widgets/controls",
     "model_module_version": "1.5.0",
     "model_name": "HBoxModel",
     "state": {
      "_dom_classes": [],
      "_model_module": "@jupyter-widgets/controls",
      "_model_module_version": "1.5.0",
      "_model_name": "HBoxModel",
      "_view_count": null,
      "_view_module": "@jupyter-widgets/controls",
      "_view_module_version": "1.5.0",
      "_view_name": "HBoxView",
      "box_style": "",
      "children": [
       "IPY_MODEL_52abdd7fc96e4396a4a077cbc1e8a234",
       "IPY_MODEL_df736d170a4442568d9272c4ea38bc82"
      ],
      "layout": "IPY_MODEL_ddd40654091b430fa8445c2f2686ecd0"
     }
    },
    "64475e66bbee4ff693df91521a2907bb": {
     "model_module": "@jupyter-widgets/controls",
     "model_module_version": "1.5.0",
     "model_name": "HBoxModel",
     "state": {
      "_dom_classes": [],
      "_model_module": "@jupyter-widgets/controls",
      "_model_module_version": "1.5.0",
      "_model_name": "HBoxModel",
      "_view_count": null,
      "_view_module": "@jupyter-widgets/controls",
      "_view_module_version": "1.5.0",
      "_view_name": "HBoxView",
      "box_style": "",
      "children": [
       "IPY_MODEL_17e5b1cc69564a10acdeb90529859029",
       "IPY_MODEL_511143660313486eaa5c6b632a0d6199"
      ],
      "layout": "IPY_MODEL_97f009bdc6cf470bb04bc230ac3eba53"
     }
    },
    "6c0f16cf47e741caa779610d64411470": {
     "model_module": "@jupyter-widgets/controls",
     "model_module_version": "1.5.0",
     "model_name": "DescriptionStyleModel",
     "state": {
      "_model_module": "@jupyter-widgets/controls",
      "_model_module_version": "1.5.0",
      "_model_name": "DescriptionStyleModel",
      "_view_count": null,
      "_view_module": "@jupyter-widgets/base",
      "_view_module_version": "1.2.0",
      "_view_name": "StyleView",
      "description_width": ""
     }
    },
    "6c2576f9ed094634890f5d66a61615c1": {
     "model_module": "@jupyter-widgets/controls",
     "model_module_version": "1.5.0",
     "model_name": "HBoxModel",
     "state": {
      "_dom_classes": [],
      "_model_module": "@jupyter-widgets/controls",
      "_model_module_version": "1.5.0",
      "_model_name": "HBoxModel",
      "_view_count": null,
      "_view_module": "@jupyter-widgets/controls",
      "_view_module_version": "1.5.0",
      "_view_name": "HBoxView",
      "box_style": "",
      "children": [
       "IPY_MODEL_0765f70a55724c8e8df6883179ee355b",
       "IPY_MODEL_570ee187b4894d329702b8040180eb48"
      ],
      "layout": "IPY_MODEL_07ddef03613c43b7abe5ea31a7809112"
     }
    },
    "73ced2954a47415a8ac97dbd1f6e9880": {
     "model_module": "@jupyter-widgets/controls",
     "model_module_version": "1.5.0",
     "model_name": "HBoxModel",
     "state": {
      "_dom_classes": [],
      "_model_module": "@jupyter-widgets/controls",
      "_model_module_version": "1.5.0",
      "_model_name": "HBoxModel",
      "_view_count": null,
      "_view_module": "@jupyter-widgets/controls",
      "_view_module_version": "1.5.0",
      "_view_name": "HBoxView",
      "box_style": "",
      "children": [
       "IPY_MODEL_8f6f9b832bc34400ac705fc99b73b4e8",
       "IPY_MODEL_c1ab2a706cb34cd982ba26e20f6f5ece"
      ],
      "layout": "IPY_MODEL_7bf54ddeb39e4bd696b72700bd800642"
     }
    },
    "73e7419463464be2b66a381cdf0c04a1": {
     "model_module": "@jupyter-widgets/controls",
     "model_module_version": "1.5.0",
     "model_name": "ProgressStyleModel",
     "state": {
      "_model_module": "@jupyter-widgets/controls",
      "_model_module_version": "1.5.0",
      "_model_name": "ProgressStyleModel",
      "_view_count": null,
      "_view_module": "@jupyter-widgets/base",
      "_view_module_version": "1.2.0",
      "_view_name": "StyleView",
      "bar_color": null,
      "description_width": "initial"
     }
    },
    "7bf54ddeb39e4bd696b72700bd800642": {
     "model_module": "@jupyter-widgets/base",
     "model_module_version": "1.2.0",
     "model_name": "LayoutModel",
     "state": {
      "_model_module": "@jupyter-widgets/base",
      "_model_module_version": "1.2.0",
      "_model_name": "LayoutModel",
      "_view_count": null,
      "_view_module": "@jupyter-widgets/base",
      "_view_module_version": "1.2.0",
      "_view_name": "LayoutView",
      "align_content": null,
      "align_items": null,
      "align_self": null,
      "border": null,
      "bottom": null,
      "display": null,
      "flex": null,
      "flex_flow": null,
      "grid_area": null,
      "grid_auto_columns": null,
      "grid_auto_flow": null,
      "grid_auto_rows": null,
      "grid_column": null,
      "grid_gap": null,
      "grid_row": null,
      "grid_template_areas": null,
      "grid_template_columns": null,
      "grid_template_rows": null,
      "height": null,
      "justify_content": null,
      "justify_items": null,
      "left": null,
      "margin": null,
      "max_height": null,
      "max_width": null,
      "min_height": null,
      "min_width": null,
      "object_fit": null,
      "object_position": null,
      "order": null,
      "overflow": null,
      "overflow_x": null,
      "overflow_y": null,
      "padding": null,
      "right": null,
      "top": null,
      "visibility": null,
      "width": null
     }
    },
    "8d9216cbbfea4774a648218682aca63d": {
     "model_module": "@jupyter-widgets/base",
     "model_module_version": "1.2.0",
     "model_name": "LayoutModel",
     "state": {
      "_model_module": "@jupyter-widgets/base",
      "_model_module_version": "1.2.0",
      "_model_name": "LayoutModel",
      "_view_count": null,
      "_view_module": "@jupyter-widgets/base",
      "_view_module_version": "1.2.0",
      "_view_name": "LayoutView",
      "align_content": null,
      "align_items": null,
      "align_self": null,
      "border": null,
      "bottom": null,
      "display": null,
      "flex": null,
      "flex_flow": null,
      "grid_area": null,
      "grid_auto_columns": null,
      "grid_auto_flow": null,
      "grid_auto_rows": null,
      "grid_column": null,
      "grid_gap": null,
      "grid_row": null,
      "grid_template_areas": null,
      "grid_template_columns": null,
      "grid_template_rows": null,
      "height": null,
      "justify_content": null,
      "justify_items": null,
      "left": null,
      "margin": null,
      "max_height": null,
      "max_width": null,
      "min_height": null,
      "min_width": null,
      "object_fit": null,
      "object_position": null,
      "order": null,
      "overflow": null,
      "overflow_x": null,
      "overflow_y": null,
      "padding": null,
      "right": null,
      "top": null,
      "visibility": null,
      "width": null
     }
    },
    "8f6f9b832bc34400ac705fc99b73b4e8": {
     "model_module": "@jupyter-widgets/controls",
     "model_module_version": "1.5.0",
     "model_name": "FloatProgressModel",
     "state": {
      "_dom_classes": [],
      "_model_module": "@jupyter-widgets/controls",
      "_model_module_version": "1.5.0",
      "_model_name": "FloatProgressModel",
      "_view_count": null,
      "_view_module": "@jupyter-widgets/controls",
      "_view_module_version": "1.5.0",
      "_view_name": "ProgressView",
      "bar_style": "success",
      "description": "",
      "description_tooltip": null,
      "layout": "IPY_MODEL_d5d4e4ad39ba48d7a3c09fd4e7308059",
      "max": 29515,
      "min": 0,
      "orientation": "horizontal",
      "style": "IPY_MODEL_73e7419463464be2b66a381cdf0c04a1",
      "value": 29515
     }
    },
    "97b489fb9e274014bce8cc6ca427a9cd": {
     "model_module": "@jupyter-widgets/base",
     "model_module_version": "1.2.0",
     "model_name": "LayoutModel",
     "state": {
      "_model_module": "@jupyter-widgets/base",
      "_model_module_version": "1.2.0",
      "_model_name": "LayoutModel",
      "_view_count": null,
      "_view_module": "@jupyter-widgets/base",
      "_view_module_version": "1.2.0",
      "_view_name": "LayoutView",
      "align_content": null,
      "align_items": null,
      "align_self": null,
      "border": null,
      "bottom": null,
      "display": null,
      "flex": null,
      "flex_flow": null,
      "grid_area": null,
      "grid_auto_columns": null,
      "grid_auto_flow": null,
      "grid_auto_rows": null,
      "grid_column": null,
      "grid_gap": null,
      "grid_row": null,
      "grid_template_areas": null,
      "grid_template_columns": null,
      "grid_template_rows": null,
      "height": null,
      "justify_content": null,
      "justify_items": null,
      "left": null,
      "margin": null,
      "max_height": null,
      "max_width": null,
      "min_height": null,
      "min_width": null,
      "object_fit": null,
      "object_position": null,
      "order": null,
      "overflow": null,
      "overflow_x": null,
      "overflow_y": null,
      "padding": null,
      "right": null,
      "top": null,
      "visibility": null,
      "width": null
     }
    },
    "97f009bdc6cf470bb04bc230ac3eba53": {
     "model_module": "@jupyter-widgets/base",
     "model_module_version": "1.2.0",
     "model_name": "LayoutModel",
     "state": {
      "_model_module": "@jupyter-widgets/base",
      "_model_module_version": "1.2.0",
      "_model_name": "LayoutModel",
      "_view_count": null,
      "_view_module": "@jupyter-widgets/base",
      "_view_module_version": "1.2.0",
      "_view_name": "LayoutView",
      "align_content": null,
      "align_items": null,
      "align_self": null,
      "border": null,
      "bottom": null,
      "display": null,
      "flex": null,
      "flex_flow": null,
      "grid_area": null,
      "grid_auto_columns": null,
      "grid_auto_flow": null,
      "grid_auto_rows": null,
      "grid_column": null,
      "grid_gap": null,
      "grid_row": null,
      "grid_template_areas": null,
      "grid_template_columns": null,
      "grid_template_rows": null,
      "height": null,
      "justify_content": null,
      "justify_items": null,
      "left": null,
      "margin": null,
      "max_height": null,
      "max_width": null,
      "min_height": null,
      "min_width": null,
      "object_fit": null,
      "object_position": null,
      "order": null,
      "overflow": null,
      "overflow_x": null,
      "overflow_y": null,
      "padding": null,
      "right": null,
      "top": null,
      "visibility": null,
      "width": null
     }
    },
    "b1f35afc1b73478f96132f916a7a0b8a": {
     "model_module": "@jupyter-widgets/base",
     "model_module_version": "1.2.0",
     "model_name": "LayoutModel",
     "state": {
      "_model_module": "@jupyter-widgets/base",
      "_model_module_version": "1.2.0",
      "_model_name": "LayoutModel",
      "_view_count": null,
      "_view_module": "@jupyter-widgets/base",
      "_view_module_version": "1.2.0",
      "_view_name": "LayoutView",
      "align_content": null,
      "align_items": null,
      "align_self": null,
      "border": null,
      "bottom": null,
      "display": null,
      "flex": null,
      "flex_flow": null,
      "grid_area": null,
      "grid_auto_columns": null,
      "grid_auto_flow": null,
      "grid_auto_rows": null,
      "grid_column": null,
      "grid_gap": null,
      "grid_row": null,
      "grid_template_areas": null,
      "grid_template_columns": null,
      "grid_template_rows": null,
      "height": null,
      "justify_content": null,
      "justify_items": null,
      "left": null,
      "margin": null,
      "max_height": null,
      "max_width": null,
      "min_height": null,
      "min_width": null,
      "object_fit": null,
      "object_position": null,
      "order": null,
      "overflow": null,
      "overflow_x": null,
      "overflow_y": null,
      "padding": null,
      "right": null,
      "top": null,
      "visibility": null,
      "width": null
     }
    },
    "c1ab2a706cb34cd982ba26e20f6f5ece": {
     "model_module": "@jupyter-widgets/controls",
     "model_module_version": "1.5.0",
     "model_name": "HTMLModel",
     "state": {
      "_dom_classes": [],
      "_model_module": "@jupyter-widgets/controls",
      "_model_module_version": "1.5.0",
      "_model_name": "HTMLModel",
      "_view_count": null,
      "_view_module": "@jupyter-widgets/controls",
      "_view_module_version": "1.5.0",
      "_view_name": "HTMLView",
      "description": "",
      "description_tooltip": null,
      "layout": "IPY_MODEL_0753fbb3809f469bad1b9b54b9322f94",
      "placeholder": "​",
      "style": "IPY_MODEL_0400cff058b049789cd473165d3ebde1",
      "value": " 29696/? [00:00&lt;00:00, 35651.94it/s]"
     }
    },
    "d37d1f7260a7401d88e9571690220b69": {
     "model_module": "@jupyter-widgets/controls",
     "model_module_version": "1.5.0",
     "model_name": "DescriptionStyleModel",
     "state": {
      "_model_module": "@jupyter-widgets/controls",
      "_model_module_version": "1.5.0",
      "_model_name": "DescriptionStyleModel",
      "_view_count": null,
      "_view_module": "@jupyter-widgets/base",
      "_view_module_version": "1.2.0",
      "_view_name": "StyleView",
      "description_width": ""
     }
    },
    "d5d4e4ad39ba48d7a3c09fd4e7308059": {
     "model_module": "@jupyter-widgets/base",
     "model_module_version": "1.2.0",
     "model_name": "LayoutModel",
     "state": {
      "_model_module": "@jupyter-widgets/base",
      "_model_module_version": "1.2.0",
      "_model_name": "LayoutModel",
      "_view_count": null,
      "_view_module": "@jupyter-widgets/base",
      "_view_module_version": "1.2.0",
      "_view_name": "LayoutView",
      "align_content": null,
      "align_items": null,
      "align_self": null,
      "border": null,
      "bottom": null,
      "display": null,
      "flex": null,
      "flex_flow": null,
      "grid_area": null,
      "grid_auto_columns": null,
      "grid_auto_flow": null,
      "grid_auto_rows": null,
      "grid_column": null,
      "grid_gap": null,
      "grid_row": null,
      "grid_template_areas": null,
      "grid_template_columns": null,
      "grid_template_rows": null,
      "height": null,
      "justify_content": null,
      "justify_items": null,
      "left": null,
      "margin": null,
      "max_height": null,
      "max_width": null,
      "min_height": null,
      "min_width": null,
      "object_fit": null,
      "object_position": null,
      "order": null,
      "overflow": null,
      "overflow_x": null,
      "overflow_y": null,
      "padding": null,
      "right": null,
      "top": null,
      "visibility": null,
      "width": null
     }
    },
    "d83a9df20ca1455e84f90baeed95efe4": {
     "model_module": "@jupyter-widgets/base",
     "model_module_version": "1.2.0",
     "model_name": "LayoutModel",
     "state": {
      "_model_module": "@jupyter-widgets/base",
      "_model_module_version": "1.2.0",
      "_model_name": "LayoutModel",
      "_view_count": null,
      "_view_module": "@jupyter-widgets/base",
      "_view_module_version": "1.2.0",
      "_view_name": "LayoutView",
      "align_content": null,
      "align_items": null,
      "align_self": null,
      "border": null,
      "bottom": null,
      "display": null,
      "flex": null,
      "flex_flow": null,
      "grid_area": null,
      "grid_auto_columns": null,
      "grid_auto_flow": null,
      "grid_auto_rows": null,
      "grid_column": null,
      "grid_gap": null,
      "grid_row": null,
      "grid_template_areas": null,
      "grid_template_columns": null,
      "grid_template_rows": null,
      "height": null,
      "justify_content": null,
      "justify_items": null,
      "left": null,
      "margin": null,
      "max_height": null,
      "max_width": null,
      "min_height": null,
      "min_width": null,
      "object_fit": null,
      "object_position": null,
      "order": null,
      "overflow": null,
      "overflow_x": null,
      "overflow_y": null,
      "padding": null,
      "right": null,
      "top": null,
      "visibility": null,
      "width": null
     }
    },
    "ddd40654091b430fa8445c2f2686ecd0": {
     "model_module": "@jupyter-widgets/base",
     "model_module_version": "1.2.0",
     "model_name": "LayoutModel",
     "state": {
      "_model_module": "@jupyter-widgets/base",
      "_model_module_version": "1.2.0",
      "_model_name": "LayoutModel",
      "_view_count": null,
      "_view_module": "@jupyter-widgets/base",
      "_view_module_version": "1.2.0",
      "_view_name": "LayoutView",
      "align_content": null,
      "align_items": null,
      "align_self": null,
      "border": null,
      "bottom": null,
      "display": null,
      "flex": null,
      "flex_flow": null,
      "grid_area": null,
      "grid_auto_columns": null,
      "grid_auto_flow": null,
      "grid_auto_rows": null,
      "grid_column": null,
      "grid_gap": null,
      "grid_row": null,
      "grid_template_areas": null,
      "grid_template_columns": null,
      "grid_template_rows": null,
      "height": null,
      "justify_content": null,
      "justify_items": null,
      "left": null,
      "margin": null,
      "max_height": null,
      "max_width": null,
      "min_height": null,
      "min_width": null,
      "object_fit": null,
      "object_position": null,
      "order": null,
      "overflow": null,
      "overflow_x": null,
      "overflow_y": null,
      "padding": null,
      "right": null,
      "top": null,
      "visibility": null,
      "width": null
     }
    },
    "df736d170a4442568d9272c4ea38bc82": {
     "model_module": "@jupyter-widgets/controls",
     "model_module_version": "1.5.0",
     "model_name": "HTMLModel",
     "state": {
      "_dom_classes": [],
      "_model_module": "@jupyter-widgets/controls",
      "_model_module_version": "1.5.0",
      "_model_name": "HTMLModel",
      "_view_count": null,
      "_view_module": "@jupyter-widgets/controls",
      "_view_module_version": "1.5.0",
      "_view_name": "HTMLView",
      "description": "",
      "description_tooltip": null,
      "layout": "IPY_MODEL_d83a9df20ca1455e84f90baeed95efe4",
      "placeholder": "​",
      "style": "IPY_MODEL_d37d1f7260a7401d88e9571690220b69",
      "value": " 4422656/? [00:13&lt;00:00, 325001.49it/s]"
     }
    },
    "eba0b1d965974cd6b295b93dc57b9e83": {
     "model_module": "@jupyter-widgets/controls",
     "model_module_version": "1.5.0",
     "model_name": "DescriptionStyleModel",
     "state": {
      "_model_module": "@jupyter-widgets/controls",
      "_model_module_version": "1.5.0",
      "_model_name": "DescriptionStyleModel",
      "_view_count": null,
      "_view_module": "@jupyter-widgets/base",
      "_view_module_version": "1.2.0",
      "_view_name": "StyleView",
      "description_width": ""
     }
    },
    "fd31759de266401abe104c5456ebccd4": {
     "model_module": "@jupyter-widgets/base",
     "model_module_version": "1.2.0",
     "model_name": "LayoutModel",
     "state": {
      "_model_module": "@jupyter-widgets/base",
      "_model_module_version": "1.2.0",
      "_model_name": "LayoutModel",
      "_view_count": null,
      "_view_module": "@jupyter-widgets/base",
      "_view_module_version": "1.2.0",
      "_view_name": "LayoutView",
      "align_content": null,
      "align_items": null,
      "align_self": null,
      "border": null,
      "bottom": null,
      "display": null,
      "flex": null,
      "flex_flow": null,
      "grid_area": null,
      "grid_auto_columns": null,
      "grid_auto_flow": null,
      "grid_auto_rows": null,
      "grid_column": null,
      "grid_gap": null,
      "grid_row": null,
      "grid_template_areas": null,
      "grid_template_columns": null,
      "grid_template_rows": null,
      "height": null,
      "justify_content": null,
      "justify_items": null,
      "left": null,
      "margin": null,
      "max_height": null,
      "max_width": null,
      "min_height": null,
      "min_width": null,
      "object_fit": null,
      "object_position": null,
      "order": null,
      "overflow": null,
      "overflow_x": null,
      "overflow_y": null,
      "padding": null,
      "right": null,
      "top": null,
      "visibility": null,
      "width": null
     }
    }
   }
  }
 },
 "nbformat": 4,
 "nbformat_minor": 1
}
