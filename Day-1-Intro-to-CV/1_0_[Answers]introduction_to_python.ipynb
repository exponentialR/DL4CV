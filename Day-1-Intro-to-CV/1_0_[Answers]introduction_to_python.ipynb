{
  "cells": [
    {
      "cell_type": "markdown",
      "metadata": {
        "id": "dzNng6vCL9eP"
      },
      "source": [
        "<img src = \"https://github.com/exponentialR/DL4CV/blob/main/media/BMC_Summer_Course_Deep_Learning_for_Computer_Vision.jpg?raw=true\" alt='BMC Summer Course' width='300'/>\n",
        "\n",
        "### BMC Summer Course: Deep Learning for Computer Vision, Python Essentials\n",
        "\n",
        "Author: Samuel A.\n"
      ]
    },
    {
      "cell_type": "markdown",
      "metadata": {
        "id": "qVrTo-LhL9eS"
      },
      "source": [
        "### Introduction\n",
        "Throughout this course we will be making use of Python as the programming language. If at any point you get stuck, please reach out to me on SAdebayo@belfastmet.ac.uk"
      ]
    },
    {
      "cell_type": "markdown",
      "metadata": {
        "id": "832R2HBEPHos"
      },
      "source": [
        "#### Variables\n",
        "\n",
        "Create three variables called: x, y, z, which hold the data 3, '3', and 'three'. Think carefully about why types these variables will be."
      ]
    },
    {
      "cell_type": "code",
      "execution_count": 1,
      "metadata": {
        "id": "Y8zd9ys7PKvv",
        "colab": {
          "base_uri": "https://localhost:8080/"
        },
        "outputId": "ade749f5-9a45-417f-e09d-a6eaddffa15f"
      },
      "outputs": [
        {
          "output_type": "stream",
          "name": "stdout",
          "text": [
            "3 3 three\n"
          ]
        }
      ],
      "source": [
        "x = 3           # TODO\n",
        "y = \"3\"            # TODO\n",
        "z = \"three\"           # TODO\n",
        "print(x, y, z)"
      ]
    },
    {
      "cell_type": "markdown",
      "metadata": {
        "id": "Nbb3I2hzPfqJ"
      },
      "source": [
        "# Types\n",
        "\n",
        "Print out the types of the variables x, y, z. You can do this useing the `type(variable_name)` function."
      ]
    },
    {
      "cell_type": "code",
      "execution_count": 2,
      "metadata": {
        "id": "ogT4xURLTKkl",
        "colab": {
          "base_uri": "https://localhost:8080/"
        },
        "outputId": "388fd98f-e501-4c70-ed3e-3885a4dd9d25"
      },
      "outputs": [
        {
          "output_type": "stream",
          "name": "stdout",
          "text": [
            "<class 'int'>\n",
            "<class 'str'>\n",
            "<class 'str'>\n"
          ]
        }
      ],
      "source": [
        "print(type(x)) # TODO print type x\n",
        "print(type(y)) # TODO print type y\n",
        "print(type(z)) # TODO print type z"
      ]
    },
    {
      "cell_type": "markdown",
      "metadata": {
        "id": "2eAVHJ3OPooU"
      },
      "source": [
        "# Operators\n",
        "\n",
        "Print out the values of: x * x, x^2, x + 3, x - 2, x / 2, x % 2.\n",
        "\n",
        "Talk to your demonstrator about what would happend if you tried to compute x * y."
      ]
    },
    {
      "cell_type": "code",
      "execution_count": 3,
      "metadata": {
        "id": "5GtKkCl0UVfp",
        "colab": {
          "base_uri": "https://localhost:8080/"
        },
        "outputId": "b4d6bef3-66bb-4992-bc2d-614b6b7b2c93"
      },
      "outputs": [
        {
          "output_type": "stream",
          "name": "stdout",
          "text": [
            "9\n",
            "9\n",
            "6\n",
            "1.5\n",
            "1\n"
          ]
        }
      ],
      "source": [
        "print(x * x)     # TODO compute x * x\n",
        "print(x**2) # TODO compute x^2\n",
        "print(x + 3)      # TODO compute x + 3\n",
        "print(x-2)      # TODO compute x - 2\n",
        "print(x/2)    # TODO compute x / 2\n",
        "print(x % 2)      # TODO compute x % 2"
      ]
    },
    {
      "cell_type": "markdown",
      "metadata": {
        "id": "xFgfWOMYPspm"
      },
      "source": [
        "# Logic\n",
        "\n",
        "This simple tasks asks you to write a short program which will describe the weather based on some observations. You will be given two boolean variables (true or false), which tell you if it's raining or not (`raining`)and if it's sunny or not (`sunny`). Given these inputs, implement some logic which will print:\n",
        "\n",
        "* 'It's raining and cloudy', if `raining = True` and `sunny = False`\n",
        "* 'It's dry but cloudy', if `raining = False` and `sunny = False`\n",
        "* \"It's dry and sunny!\", if `raining = False` and `sunny = Sunny`\n",
        "* \"There's a rainbow!\", if `raining = True` and `sunny = True`\n",
        "\n",
        "You will need to use a combination `if else` statements. This is quite a hard task, so it might be worth discussing with each other and your demonstrator before launching in.\n",
        "\n",
        "HINT: You can either use the `and` operator in the statement, or you can also use multiple levels of `if else` statements.\n",
        "\n",
        "\n",
        "\n"
      ]
    },
    {
      "cell_type": "code",
      "execution_count": 4,
      "metadata": {
        "id": "qdPfmYZlYIvB",
        "colab": {
          "base_uri": "https://localhost:8080/"
        },
        "outputId": "21f1ec74-0223-4ee2-8ca3-27d61548ebf4"
      },
      "outputs": [
        {
          "output_type": "stream",
          "name": "stdout",
          "text": [
            "There's a rainbow!\n"
          ]
        }
      ],
      "source": [
        "raining = True\n",
        "sunny = True\n",
        "\n",
        "# Add if else statements below\n",
        "if raining == True and sunny == False:\n",
        "  print(\"It's raining and cloudy\")\n",
        "elif raining == False and sunny == False:\n",
        "  print(\"It's dry but cloudy\")\n",
        "elif raining == False and sunny == True:\n",
        "  print(\"It's dry and sunny!\")\n",
        "elif raining == True and sunny == True:\n",
        "  print(\"There's a rainbow!\")"
      ]
    },
    {
      "cell_type": "markdown",
      "metadata": {
        "id": "5Z8FL9nIPzoC"
      },
      "source": [
        "# Data Structures\n",
        "\n",
        "This is a key part of Python, you'll use the concepts almost everytime you do some programming, so it's important to take your time making sure you understand what's going on and how to use them."
      ]
    },
    {
      "cell_type": "markdown",
      "metadata": {
        "id": "sTJzrAyLP2wA"
      },
      "source": [
        "## Tuples\n",
        "\n",
        "Create a tuple containing the digits `1, 3, 5`"
      ]
    },
    {
      "cell_type": "code",
      "execution_count": 7,
      "metadata": {
        "id": "D57_ApTpbI3s",
        "colab": {
          "base_uri": "https://localhost:8080/"
        },
        "outputId": "b2a89eaf-c5ea-4064-a5e8-a9bd28eda561"
      },
      "outputs": [
        {
          "output_type": "stream",
          "name": "stdout",
          "text": [
            "(1, 3, 5)\n"
          ]
        }
      ],
      "source": [
        "my_tuple = (1, 3, 5) # TODO\n",
        "print(my_tuple)"
      ]
    },
    {
      "cell_type": "markdown",
      "metadata": {
        "id": "pufObo-KbsiW"
      },
      "source": [
        "What happens if you want to change the second element to contain the value 4, can you do it?"
      ]
    },
    {
      "cell_type": "markdown",
      "metadata": {
        "id": "hTVoAqbvP408"
      },
      "source": [
        "## Lists\n",
        "\n",
        "Create a list containing the digits `1, 3, 5, 7, 8`\n"
      ]
    },
    {
      "cell_type": "code",
      "execution_count": 8,
      "metadata": {
        "id": "QVb8a4r007MV",
        "colab": {
          "base_uri": "https://localhost:8080/"
        },
        "outputId": "eb32b17f-74f5-4fe0-cb99-24908f2705ae"
      },
      "outputs": [
        {
          "output_type": "stream",
          "name": "stdout",
          "text": [
            "[1, 3, 5, 7, 8]\n"
          ]
        }
      ],
      "source": [
        "my_list = [1, 3, 5, 7, 8]\n",
        "print(my_list)"
      ]
    },
    {
      "cell_type": "markdown",
      "metadata": {
        "id": "7_SDcwOlP7_A"
      },
      "source": [
        "## Dictionaries\n",
        "\n",
        "Create a list containing the values `1, 3, 5`. Use suitable names for the keys."
      ]
    },
    {
      "cell_type": "code",
      "execution_count": 9,
      "metadata": {
        "id": "tSVGGJFX1KeL",
        "colab": {
          "base_uri": "https://localhost:8080/"
        },
        "outputId": "33f28c89-f5d5-4f87-9648-b56d99088bb4"
      },
      "outputs": [
        {
          "output_type": "stream",
          "name": "stdout",
          "text": [
            "{'item1': 1, 'item2': 2, 'item3': 3}\n"
          ]
        }
      ],
      "source": [
        "my_dictionary = {'item1':1,\n",
        "                 'item2':2,\n",
        "                 'item3': 3} # TODO\n",
        "\n",
        "print(my_dictionary)"
      ]
    },
    {
      "cell_type": "markdown",
      "metadata": {
        "id": "Qrf00LRWQI9m"
      },
      "source": [
        "# Loops\n",
        "\n",
        "Write a loop to calculate the sum of `my_tuple`."
      ]
    },
    {
      "cell_type": "code",
      "execution_count": 10,
      "metadata": {
        "id": "STVxDLWs1Uv2",
        "colab": {
          "base_uri": "https://localhost:8080/"
        },
        "outputId": "3902e943-d3c2-4e3f-e886-6b1d471791ae"
      },
      "outputs": [
        {
          "output_type": "stream",
          "name": "stdout",
          "text": [
            "9\n"
          ]
        }
      ],
      "source": [
        "# TODO write a for loop to add all of the elements in my_tuple\n",
        "# Initialise the sum\n",
        "sum = 0\n",
        "# Loop over all elements in my_tuple\n",
        "for element in my_tuple:\n",
        "  sum = sum + element\n",
        "\n",
        "print(sum)"
      ]
    },
    {
      "cell_type": "markdown",
      "metadata": {
        "id": "lRHV2ttl1c2o"
      },
      "source": [
        "Write a loop to calculate the sum of my_list.\n",
        "\n"
      ]
    },
    {
      "cell_type": "code",
      "execution_count": 11,
      "metadata": {
        "id": "8X3TaJd11f5E",
        "colab": {
          "base_uri": "https://localhost:8080/"
        },
        "outputId": "ddd6ba1b-a973-4b88-cadb-a21d835d4431"
      },
      "outputs": [
        {
          "output_type": "stream",
          "name": "stdout",
          "text": [
            "24\n"
          ]
        }
      ],
      "source": [
        "# TODO write a for loop to add all of the elements in my_list\n",
        "# Initialise the sum\n",
        "sum = 0\n",
        "# Loop over all elements in my_list\n",
        "for element in my_list:\n",
        "  sum = sum + element\n",
        "\n",
        "print(sum)"
      ]
    },
    {
      "cell_type": "markdown",
      "metadata": {
        "id": "B7tlIyq61wHh"
      },
      "source": [
        "Write a loop which will calculate the sum of all the elements in `my_dictionary`.\n",
        "\n",
        "HINT: You may need to ask your demonstrator or use Google to help you out."
      ]
    },
    {
      "cell_type": "code",
      "execution_count": 13,
      "metadata": {
        "id": "k7aJF2VL1_0A",
        "colab": {
          "base_uri": "https://localhost:8080/"
        },
        "outputId": "78bb2686-7e8d-496f-deb6-843e0117dc9f"
      },
      "outputs": [
        {
          "output_type": "stream",
          "name": "stdout",
          "text": [
            "6\n"
          ]
        }
      ],
      "source": [
        "# TODO sum up all elements in my_dctionary\n",
        "# Initialise the sum\n",
        "sum = 0\n",
        "# Loop over all elements in my_dictionary\n",
        "for element in my_dictionary.values():\n",
        "  sum = sum + element\n",
        "\n",
        "print(sum)"
      ]
    },
    {
      "cell_type": "markdown",
      "metadata": {
        "id": "0UrhpfhxQ9Wy"
      },
      "source": [
        "# Functions"
      ]
    },
    {
      "cell_type": "markdown",
      "metadata": {
        "id": "ya6t9AgD2ME7"
      },
      "source": [
        "In the previous excersie we had to wite the same piece of code twice to sum up the tuple and the list. We can clean this up a little bit by putting this functionality into a function. This saves us having the same bits of code written twice, which is always a bad idea."
      ]
    },
    {
      "cell_type": "code",
      "execution_count": 14,
      "metadata": {
        "id": "5K-ftcV72gjf",
        "colab": {
          "base_uri": "https://localhost:8080/"
        },
        "outputId": "f54c14dd-0edb-42f3-8968-638c0472c996"
      },
      "outputs": [
        {
          "output_type": "stream",
          "name": "stdout",
          "text": [
            "9\n",
            "24\n"
          ]
        }
      ],
      "source": [
        "def sum_array(array):\n",
        "  # TODO add functinality here which will sum up all elements in array\n",
        "  sum = 0\n",
        "  for element in array:\n",
        "    sum = sum + element\n",
        "  return sum\n",
        "\n",
        "\n",
        "print(sum_array(my_tuple))\n",
        "print(sum_array(my_list))"
      ]
    },
    {
      "cell_type": "markdown",
      "metadata": {
        "id": "H7DngFuHQV5N"
      },
      "source": [
        "# Classes\n",
        "\n",
        "Classes can be a bit of a scary concept at first, but are an essential part of programming. The easiest way to think about classes is to think of them as components/modules in a machine, which perorm self contained tasks, but can also interact with other classes. This provides a way for us abstract how things are implemented in the codebase and makes life alot easier when it gets quite large. We'll keep things very simple to start with, as this concept can take a while to grasp, so don't worry if you don't get it right away. Chat with your demonstator and others in the breakout room about classes, discussing is always helpful.\n",
        "\n",
        "As a simple example we're going to use animals. We'll also explore a concept called inheritence, which is a way to enforce that classes are of the same base type, but different, e.g. a bear and a dog are both mammals but not quite the same."
      ]
    },
    {
      "cell_type": "code",
      "execution_count": 17,
      "metadata": {
        "id": "seI_ibvq7OIQ"
      },
      "outputs": [],
      "source": [
        "class Mammal():\n",
        "  def __init__(self, name):\n",
        "    self.name = name\n",
        "\n",
        "  def speak(self):\n",
        "    print(\"Hi there my name is %s\" % self.name)\n",
        "\n",
        "\n",
        "class Bear(Mammal):\n",
        "  def __init__(self, name):\n",
        "    super().__init__(name) # this instantiates the base class Mammal\n",
        "\n",
        "  def dance(self):\n",
        "    # in here we can make the bear dance\n",
        "    print(\"Everybody dance, clap your hands, clap your hands...\") # Chic fan here\n",
        "\n",
        "\n",
        "class Dog(Mammal):\n",
        "  def __init__(self, name):\n",
        "    super().__init__(name)\n",
        "\n",
        "  def fetch(self):\n",
        "    # in here we can make the dog fetch\n",
        "    print(\"Fetch the ball!\")\n"
      ]
    },
    {
      "cell_type": "markdown",
      "metadata": {
        "id": "Oyv0ZntF8E3z"
      },
      "source": [
        "'Have a look at the code above closely and talk it through it with your demonstrator. It's important you understand what every piece of the code is doing, don't be affraid to ask if you don't understand what a bit of code is doing.\n",
        "\n",
        "\n",
        "Question: What happens if we now wanted to add a class about reptiles? How would you incorporate this class into the above example? Think carefull about what a base class might be and what you'd need to change."
      ]
    },
    {
      "cell_type": "code",
      "execution_count": 18,
      "metadata": {
        "id": "Eiv1E-JY8uDk"
      },
      "outputs": [],
      "source": [
        "# We have a separate class to inherit from\n",
        "class Animal:\n",
        "  def __init__(self, name):\n",
        "    self.name = name\n",
        "\n",
        "  def speak(self):\n",
        "    print(\"Hi there my name is %s\" % self.name)\n",
        "\n",
        "class Reptile(Animal):  # Inherit from Animal\n",
        "  def __init__(self, name):\n",
        "    super().__init__(name)  # Call the base class constructor\n",
        "\n",
        "  def sunbathe(self):\n",
        "    print(\"Vitamin-D + SPF + G&T, doesn't get better than this.\")\n",
        "\n"
      ]
    },
    {
      "cell_type": "code",
      "source": [
        "# Create instances of each class\n",
        "bear = Bear(name=\"Grizzly\")\n",
        "dog = Dog(name=\"Rover\")\n",
        "reptile = Reptile(name=\"Lizzy\")\n",
        "\n",
        "# Call methods on each instance\n",
        "bear.speak()       # Output: Hi there my name is Grizzly\n",
        "bear.dance()       # Output: Everybody dance, clap your hands, clap your hands...\n",
        "\n",
        "dog.speak()        # Output: Hi there my name is Rover\n",
        "dog.fetch()        # Output: Fetch the ball!\n",
        "\n",
        "reptile.speak()    # Output: Hi there my name is Lizzy\n",
        "reptile.sunbathe() # Output: Vitamin-D + SPF + G&T, doesn't get better than this.\n"
      ],
      "metadata": {
        "colab": {
          "base_uri": "https://localhost:8080/"
        },
        "id": "bxJfXwhkavac",
        "outputId": "64efe942-73a5-4029-8102-e2d5330ef64f"
      },
      "execution_count": 19,
      "outputs": [
        {
          "output_type": "stream",
          "name": "stdout",
          "text": [
            "Hi there my name is Grizzly\n",
            "Everybody dance, clap your hands, clap your hands...\n",
            "Hi there my name is Rover\n",
            "Fetch the ball!\n",
            "Hi there my name is Lizzy\n",
            "Vitamin-D + SPF + G&T, doesn't get better than this.\n"
          ]
        }
      ]
    },
    {
      "cell_type": "markdown",
      "metadata": {
        "id": "YLLp_O1CQYh_"
      },
      "source": [
        "# Libraries"
      ]
    },
    {
      "cell_type": "markdown",
      "metadata": {
        "id": "a4b4ksI_P6jb"
      },
      "source": [
        "When programming in Python, there's tasks which come up very often, so often in fact that people all over the world have devoted time to write functions and classes which fulfil these common tasks, meaning you don't have to write basic functions from scratch every time. These tasks cover all sorts, e.g. plotting graphs, using matrices etc and are contained in 'modules'.\n",
        "\n",
        "One module which you'll use very very often is numpy. You can import numpy into your programm using:\n",
        "\n",
        "```\n",
        "import numpy as np\n",
        "```\n",
        "\n",
        "You can then access all of numpy's functinality through `np.<nfunction>`, you can check out all of the functions and features here: https://numpy.org/.\n",
        "\n",
        "One of the main featues of numpy is the `np.array` class. It's a way to taks normal Python lists, but add lots of functinality such as mupltiplication etc. You can make a numpy array using `np.array(my_data)`. Create a numpy array called `my_array` below."
      ]
    },
    {
      "cell_type": "code",
      "source": [
        "import numpy as np\n"
      ],
      "metadata": {
        "id": "82r31jaia8st"
      },
      "execution_count": 21,
      "outputs": []
    },
    {
      "cell_type": "code",
      "execution_count": 23,
      "metadata": {
        "id": "M6ckitiYBKFP",
        "colab": {
          "base_uri": "https://localhost:8080/"
        },
        "outputId": "723f48c7-0228-4c24-c69a-e3a1a5b57dc2"
      },
      "outputs": [
        {
          "output_type": "stream",
          "name": "stdout",
          "text": [
            "[1 2 3 4 5]\n"
          ]
        }
      ],
      "source": [
        "data = [1, 2, 3, 4, 5]\n",
        "my_array = np.array(data)# TODO\n",
        "print(my_array)"
      ]
    },
    {
      "cell_type": "markdown",
      "metadata": {
        "id": "WXW8CA-gB6cc"
      },
      "source": [
        "You can sum up numpy arrays using `.sum()`. Try this below and check the answer is as expected."
      ]
    },
    {
      "cell_type": "code",
      "execution_count": 25,
      "metadata": {
        "id": "Wc3FsHgdB5CL",
        "colab": {
          "base_uri": "https://localhost:8080/"
        },
        "outputId": "bbda1bf3-7175-4829-d463-8ec32b25c67d"
      },
      "outputs": [
        {
          "output_type": "stream",
          "name": "stdout",
          "text": [
            "Sum of array is 15\n"
          ]
        }
      ],
      "source": [
        "# TODO check what sum of my_array.\n",
        "sum_array = np.sum(my_array)\n",
        "print(f'Sum of array is {sum_array}')"
      ]
    },
    {
      "cell_type": "markdown",
      "metadata": {
        "id": "nSyIF0zjCKPy"
      },
      "source": [
        "Have a look on the numpy website to see if you can find ways to: multiply my_array by a constant; add a constant and add two arrays together. This excersie is designed to get you comfortable with using the internet to find your answers. 90% of programming is looking up on Google how to do little tasks, as a programmer your job is to bring it all together and know where to look to find the right answer. Don't waste your precious brain power memorizing things, just know where to look to find the right answer."
      ]
    },
    {
      "cell_type": "code",
      "execution_count": 30,
      "metadata": {
        "id": "CSuwCf7wC7JH",
        "colab": {
          "base_uri": "https://localhost:8080/"
        },
        "outputId": "5a7129b8-9c63-4a46-996f-a2f9b29748e4"
      },
      "outputs": [
        {
          "output_type": "stream",
          "name": "stdout",
          "text": [
            "[ 2  4  6  8 10]\n",
            "[16 17 18 19 20]\n",
            "[15 30 45 60 75]\n"
          ]
        }
      ],
      "source": [
        " # TODO multiply array by constant\n",
        " new_array = my_array * 2\n",
        " print(new_array)\n",
        "\n",
        "  # TODO add a constant\n",
        " # Let's add sum_array (constant) to array\n",
        " new_array = my_array + sum_array\n",
        " print(new_array)\n",
        "\n",
        "\n",
        " # TODO multiply to arrays together (take the dot product if you know what that is, if not dw!)\n",
        " new_array = np.dot(my_array, sum_array)\n",
        " print(new_array)"
      ]
    },
    {
      "cell_type": "markdown",
      "metadata": {
        "id": "djQyJRSHBcPl"
      },
      "source": [
        "### 2D Arrays"
      ]
    },
    {
      "cell_type": "markdown",
      "metadata": {
        "id": "vRN1f8FH_0kI"
      },
      "source": [
        "Often we want more dimensions in an array than a 1D array, i.e. a matrix, or a grid of numbers. We can easily extend lists and arrays to hold 2D arrays.\n",
        "\n",
        "```\n",
        "my_2d_list = [[1, 2, 3], [4, 5, 6], [7, 8, 9]]\n",
        "```\n",
        "\n",
        "Create a numpy array using the data in `my_2d_list`.\n"
      ]
    },
    {
      "cell_type": "code",
      "execution_count": 33,
      "metadata": {
        "id": "zNhwoY0-__SP",
        "colab": {
          "base_uri": "https://localhost:8080/"
        },
        "outputId": "93f7107f-5720-4dd4-8f1d-69c7701837dc"
      },
      "outputs": [
        {
          "output_type": "stream",
          "name": "stdout",
          "text": [
            "[[1 2 3]\n",
            " [4 5 6]\n",
            " [7 8 9]]\n"
          ]
        }
      ],
      "source": [
        "# TODO make 2d numpy array\n",
        "my_2d_list = [[1, 2, 3], [4, 5, 6], [7, 8, 9]]\n",
        "\n",
        "my_2d_array = np.array(my_2d_list)\n",
        "print(my_2d_array)"
      ]
    },
    {
      "cell_type": "markdown",
      "metadata": {
        "id": "auPOoc62FPQf"
      },
      "source": [
        "# Slices\n",
        "\n",
        "We can access elements or slices of arrays using the square brackes `[]`.\n",
        "\n",
        "Using `my_array` which you created previously, print out the 2nd element, and then create a an array which removes the first and last elements of `my_array`.\n",
        "\n",
        "Hint: You can access elements from the right side by using a minus index, e.g. the last element can be accessing by `my_array[-1]`.\n",
        "\n"
      ]
    },
    {
      "cell_type": "code",
      "execution_count": 35,
      "metadata": {
        "id": "030q6kS0VAvU",
        "colab": {
          "base_uri": "https://localhost:8080/"
        },
        "outputId": "0925187c-6902-4b00-8746-9e159ab2868a"
      },
      "outputs": [
        {
          "output_type": "stream",
          "name": "stdout",
          "text": [
            "2\n",
            "[2 3 4]\n"
          ]
        }
      ],
      "source": [
        "# TODO print the 2nd element\n",
        "print(my_array[1])\n",
        "# TODO remove the 1st and last element of my_array.\n",
        "new_array = my_array[1:-1]\n",
        "\n",
        "print(new_array)"
      ]
    },
    {
      "cell_type": "markdown",
      "metadata": {
        "id": "SJW4tQJgVxNM"
      },
      "source": [
        "## Slicing in 2D arrays\n",
        "\n",
        "We can access elements of 2d Arrays using `[x, y]` at the end of a 2d array, e.g. `my_2d_array[1, 1]` will print the value 5.\n",
        "\n",
        "The first element accesses the rows and the second the columns, to use the entire rows or columns we use colon `:`, e.g. `my_2d_array[:, :] == my_2d_array'.\n",
        "\n",
        "Because we may have more than two dimensions, we use axis rather than rows and columns. An easy way to think about this is arrays of arrays, e.g. the elements of axis 0 contain arrays. It's worth taking a moment to think about this, but if you get stuck just think about the image below.\n",
        "\n",
        "<div>\n",
        "<img src=\"https://i.stack.imgur.com/h1alT.jpg\" width=\"500\"/>\n",
        "</div>\n",
        "\n",
        "\n",
        "Using the `:` operator, try and print the first row and then the first column of `my_2d_array`."
      ]
    },
    {
      "cell_type": "code",
      "execution_count": 36,
      "metadata": {
        "id": "_Am6Bf14W4ju",
        "colab": {
          "base_uri": "https://localhost:8080/"
        },
        "outputId": "124639d5-a8e5-4ca9-831a-ca51bcdfd130"
      },
      "outputs": [
        {
          "output_type": "stream",
          "name": "stdout",
          "text": [
            "[1 2 3]\n",
            "[1 4 7]\n"
          ]
        }
      ],
      "source": [
        "# TODO print the first row\n",
        "print(my_2d_array[0, :])\n",
        "# TODO print the first column\n",
        "print(my_2d_array[:, 0])"
      ]
    },
    {
      "cell_type": "code",
      "execution_count": null,
      "metadata": {
        "id": "FwHomV7ha22V"
      },
      "outputs": [],
      "source": [
        "import numpy as np\n",
        "\n",
        "class Car():\n",
        "  def __init__(self, model, color):\n",
        "    self.model = model\n",
        "    self.color = color\n",
        "    self.dt = 1.0 # 1 second\n",
        "    self.position = np.array([0, 0]) # initial position\n",
        "\n",
        "  def move(self, velocity):\n",
        "    self.position = self.position + self.dt * velocity"
      ]
    },
    {
      "cell_type": "code",
      "execution_count": null,
      "metadata": {
        "colab": {
          "base_uri": "https://localhost:8080/"
        },
        "id": "Lp6h15dNb_7k",
        "outputId": "85022284-bdf9-4082-a0f0-cfd9874970ce"
      },
      "outputs": [
        {
          "name": "stdout",
          "output_type": "stream",
          "text": [
            "Position at t = 0: [0 0]\n",
            "Position at t = 1: [1. 1.]\n"
          ]
        }
      ],
      "source": [
        "my_car = Car(model=\"Tesla\", color=\"Red\")\n",
        "\n",
        "print(\"Position at t = 0:\", my_car.position)\n",
        "\n",
        "velocity = np.array([1, 1])\n",
        "my_car.move(velocity)\n",
        "\n",
        "print(\"Position at t = 1:\", my_car.position)\n"
      ]
    },
    {
      "cell_type": "code",
      "execution_count": null,
      "metadata": {
        "id": "Oq6B3HUqfpYK"
      },
      "outputs": [],
      "source": []
    }
  ],
  "metadata": {
    "colab": {
      "provenance": []
    },
    "kernelspec": {
      "display_name": "Python 3 (ipykernel)",
      "language": "python",
      "name": "python3"
    },
    "language_info": {
      "codemirror_mode": {
        "name": "ipython",
        "version": 3
      },
      "file_extension": ".py",
      "mimetype": "text/x-python",
      "name": "python",
      "nbconvert_exporter": "python",
      "pygments_lexer": "ipython3",
      "version": "3.10.9"
    }
  },
  "nbformat": 4,
  "nbformat_minor": 0
}