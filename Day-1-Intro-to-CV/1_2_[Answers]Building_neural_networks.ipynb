{
 "cells": [
  {
   "cell_type": "markdown",
   "metadata": {
    "id": "01jdiVlKFw6t"
   },
   "source": [
    "<img src = \"https://github.com/exponentialR/DL4CV/blob/main/media/BMC_Summer_Course_Deep_Learning_for_Computer_Vision.jpg?raw=true\" alt='BMC Summer Course' width='300'/>\n",
    "\n",
    "### BMC Summer Course: Deep Learning for Computer Vision, Neural Networks\n",
    "\n",
    "Author: Samuel A."
   ]
  },
  {
   "cell_type": "markdown",
   "metadata": {
    "id": "nGbKSAImpAZF"
   },
   "source": [
    "### Utilities\n",
    "\n",
    "Please run the cells below."
   ]
  },
  {
   "cell_type": "code",
   "execution_count": 4,
   "metadata": {
    "colab": {
     "base_uri": "https://localhost:8080/"
    },
    "id": "jm2EJtpGFnNi",
    "outputId": "9dd1d28b-177d-4e7f-9376-e48c04aec423"
   },
   "outputs": [
    {
     "output_type": "execute_result",
     "data": {
      "text/plain": [
       "<torch._C.Generator at 0x7ee38c2a4530>"
      ]
     },
     "metadata": {},
     "execution_count": 4
    }
   ],
   "source": [
    "import numpy as np\n",
    "import torch # the magical NN package\n",
    "from torch import nn, optim # Backpropagtion and Gradient Descent\n",
    "\n",
    "# Visualization\n",
    "import matplotlib\n",
    "%matplotlib inline\n",
    "import matplotlib.pyplot as plt\n",
    "\n",
    "torch.manual_seed(42)"
   ]
  },
  {
   "cell_type": "code",
   "execution_count": 5,
   "metadata": {
    "id": "EbZZnapcoeSs"
   },
   "outputs": [],
   "source": [
    "#@title Helper Functions (for generating random dataset)\n",
    "\n",
    "#Modified from https://github.com/tensorflow/playground/blob/master/src/dataset.ts\n",
    "\n",
    "def generate_dataset1(n=200):\n",
    "  np.random.seed(42)\n",
    "  r1 = 2*np.random.rand(n)\n",
    "  angle = np.random.rand((n))*2*np.pi\n",
    "  x1 = r1*np.cos(angle)\n",
    "  y1 = r1*np.sin(angle)\n",
    "  data1 = np.asarray((x1,y1))\n",
    "\n",
    "  r2 = 2*np.random.rand(n) +3\n",
    "  angle2 = np.random.rand((n))*2*np.pi\n",
    "  x2 = r2*np.cos(angle)\n",
    "  y2 = r2*np.sin(angle)\n",
    "  data2 = np.asarray((x2,y2))\n",
    "\n",
    "  data = np.swapaxes(np.concatenate((data1,data2), axis =-1),0,1)\n",
    "  labels = np.concatenate((np.zeros(n, dtype=int), np.ones(n, dtype=int)))\n",
    "\n",
    "  #shuffle\n",
    "  c = list(zip(data, labels))\n",
    "  np.random.shuffle(c)\n",
    "  data, labels = zip(*c)\n",
    "\n",
    "  return np.asarray(data), np.asarray(labels)\n",
    "\n",
    "def generate_dataset2(n=100):\n",
    "  np.random.seed(42)\n",
    "  def genSpiral(n, d, noise=0.01):\n",
    "    x =[]\n",
    "    y =[]\n",
    "    for k in range(n):\n",
    "      r = k/n*5\n",
    "      t = 1.75*k/ n * 2 * np.pi + d\n",
    "      x.append(r*np.sin(t) + (2*np.random.rand()-1) * noise)\n",
    "      y.append(r*np.cos(t) + (2*np.random.rand()-1) * noise)\n",
    "    return np.asarray(x), np.asarray(y)\n",
    "\n",
    "  x1, y1 = genSpiral(n, 0)\n",
    "  data1 = np.asarray((x1,y1))\n",
    "\n",
    "  x2, y2 = genSpiral(n, np.pi)\n",
    "  data2 = np.asarray((x2,y2))\n",
    "\n",
    "  data = np.swapaxes(np.concatenate((data1,data2), axis =-1),0,1)\n",
    "  labels = np.concatenate((np.zeros(n, dtype=int), np.ones(n, dtype=int)))\n",
    "\n",
    "  #shuffle\n",
    "  c = list(zip(data, labels))\n",
    "  np.random.shuffle(c)\n",
    "  data, labels = zip(*c)\n",
    "\n",
    "  return np.asarray(data), np.asarray(labels)"
   ]
  },
  {
   "cell_type": "markdown",
   "metadata": {
    "id": "RsNTDxI-GBBw"
   },
   "source": [
    "#Introduction\n",
    "\n",
    "Welcome to the tutorial on building a simple Neural Network\n",
    "\n",
    "\n",
    "\n",
    "---\n",
    "\n"
   ]
  },
  {
   "cell_type": "markdown",
   "metadata": {
    "id": "ZBbg84MDGVKV"
   },
   "source": [
    "# Part 1: Introduction to Pytorch 🐍\n",
    "\n",
    "Pytorch is a framework that allows you to build and train neural networks.  \n",
    "\n",
    "\n",
    "**Why use a framework?**\n",
    "We could implement neural networks using numpy. However, using packages such as PyTorch make it a lot easier as they have built-in functions. As you have seen in previous tutorials we train our models using gradient descent. Ideally we want to be able to create new models and automatically compute the gradients. This is what PyTorch and other deep learning frameworks give us that makes them so appealing, they reduce computing gradients to a simple function call!!\n",
    "\n",
    "**Let's play around with PyTorch**\n",
    "Below, we'll introduce you to some basic PyTorch operations. For those of you who are curious, the documentation can be found [here](https://pytorch.org/docs/stable/tensors.html). If you're stuck, we recommend just searching what you want to do in the documentation.\n",
    "\n",
    "It's easy to convert arrays in numpy to \"tensors\" in PyTorch. First, let's **create** a numpy array:"
   ]
  },
  {
   "cell_type": "code",
   "execution_count": 6,
   "metadata": {
    "colab": {
     "base_uri": "https://localhost:8080/"
    },
    "id": "nVpDZAu1OeWb",
    "outputId": "409f6085-b467-4a7c-fe02-ad87c530b0c5"
   },
   "outputs": [
    {
     "output_type": "stream",
     "name": "stdout",
     "text": [
      "we've created:  [0 1 1 1 0 0 0 0 1 1]\n"
     ]
    }
   ],
   "source": [
    "y = np.array([0,1,1,1,0,0,0,0,1,1])\n",
    "print(\"we've created: \", y)"
   ]
  },
  {
   "cell_type": "markdown",
   "metadata": {
    "id": "kgUOqvD8O4dC"
   },
   "source": [
    "In Pytorch, we use what are called **tensors** rather than arrays. For the most part, they're very similar to a numpy array.\n",
    "\n",
    "We can convert a numpy into a tensor torch by using the `torch.tensor` function as follows:"
   ]
  },
  {
   "cell_type": "code",
   "execution_count": 7,
   "metadata": {
    "colab": {
     "base_uri": "https://localhost:8080/"
    },
    "id": "ZdLvdKiqO33h",
    "outputId": "469cb2d7-d6a6-4237-dea7-e05903aa0f5e"
   },
   "outputs": [
    {
     "output_type": "stream",
     "name": "stdout",
     "text": [
      "we've created a tensor now:  tensor([0, 1, 1, 1, 0, 0, 0, 0, 1, 1])\n"
     ]
    }
   ],
   "source": [
    "y_tensor = torch.tensor(y)\n",
    "print(\"we've created a tensor now: \", y_tensor)"
   ]
  },
  {
   "cell_type": "markdown",
   "metadata": {
    "id": "ls-c8WVgQpf6"
   },
   "source": [
    "We can also create tensors without using numpy arrays. For example:"
   ]
  },
  {
   "cell_type": "code",
   "execution_count": 8,
   "metadata": {
    "colab": {
     "base_uri": "https://localhost:8080/"
    },
    "id": "1vawc2VJQosU",
    "outputId": "dcdfb2ec-ee8f-430b-bea0-6bfea0382d39"
   },
   "outputs": [
    {
     "output_type": "stream",
     "name": "stdout",
     "text": [
      "we've create this tensor now:  tensor([0, 0, 0, 0, 0, 1, 1, 1, 1, 1])\n"
     ]
    }
   ],
   "source": [
    "z_tensor = torch.tensor([0,0,0,0,0,1,1,1,1,1])\n",
    "print(\"we've create this tensor now: \", z_tensor)"
   ]
  },
  {
   "cell_type": "markdown",
   "metadata": {
    "id": "36-VRIKAPKZQ"
   },
   "source": [
    "So now we know how to create tensors! If we're given a tensor, we might want to know about some of its attributes. For example, we may want to know the shape of a tensor. For this, we can use the `.shape` command:"
   ]
  },
  {
   "cell_type": "code",
   "execution_count": 9,
   "metadata": {
    "colab": {
     "base_uri": "https://localhost:8080/"
    },
    "id": "QU3yTrMZPJ24",
    "outputId": "b6e5328d-ca8f-4f99-b1a1-75f1d96e87c3"
   },
   "outputs": [
    {
     "output_type": "stream",
     "name": "stdout",
     "text": [
      "torch.Size([10])\n"
     ]
    }
   ],
   "source": [
    "y_shape = y_tensor.shape\n",
    "print(y_shape)"
   ]
  },
  {
   "cell_type": "markdown",
   "metadata": {
    "id": "FBBOIvyLPriW"
   },
   "source": [
    "We can access an entry in the tensor in the same way as we did with numpy arrays. For example, to find the first and second element we call:"
   ]
  },
  {
   "cell_type": "code",
   "execution_count": 10,
   "metadata": {
    "colab": {
     "base_uri": "https://localhost:8080/"
    },
    "id": "xyv1pUCPPq81",
    "outputId": "ae8531e3-4a5e-4be1-e3fe-fe18e28aa6f7"
   },
   "outputs": [
    {
     "output_type": "stream",
     "name": "stdout",
     "text": [
      "the first entry is:  tensor(0)\n",
      "the second entry is:  tensor(1)\n"
     ]
    }
   ],
   "source": [
    "first_entry = y_tensor[0] # we use index 0 for the first element in Python\n",
    "print(\"the first entry is: \", first_entry)\n",
    "\n",
    "fifth_entry = y_tensor[1]\n",
    "print(\"the second entry is: \", fifth_entry)"
   ]
  },
  {
   "cell_type": "markdown",
   "metadata": {
    "id": "1BZ72HvnP7on"
   },
   "source": [
    "Here, we observe a difference with numpy arrrays ... everything is in tensors! In PyTorch, we don't get the entry but a tensor containing the value.\n",
    "In general, torch tensors are very cool because they allow us to perform all kinds of operations:"
   ]
  },
  {
   "cell_type": "code",
   "execution_count": 11,
   "metadata": {
    "colab": {
     "base_uri": "https://localhost:8080/"
    },
    "id": "uo3AI-raSw2k",
    "outputId": "2de351ab-29ff-4d0e-e6ea-f3dd6a255ec2"
   },
   "outputs": [
    {
     "output_type": "execute_result",
     "data": {
      "text/plain": [
       "tensor(5)"
      ]
     },
     "metadata": {},
     "execution_count": 11
    }
   ],
   "source": [
    "# Compute the sum\n",
    "y_tensor.sum()"
   ]
  },
  {
   "cell_type": "code",
   "execution_count": 12,
   "metadata": {
    "colab": {
     "base_uri": "https://localhost:8080/"
    },
    "id": "uPH9q_QMP698",
    "outputId": "f71b0769-6183-4770-a1d2-6a8889c0289f"
   },
   "outputs": [
    {
     "output_type": "execute_result",
     "data": {
      "text/plain": [
       "tensor(0.5000)"
      ]
     },
     "metadata": {},
     "execution_count": 12
    }
   ],
   "source": [
    "# Compute the mean using .mean()\n",
    "y_tensor.float().mean()"
   ]
  },
  {
   "cell_type": "markdown",
   "metadata": {
    "id": "UM7TogrLaD_v"
   },
   "source": [
    "Now you've familiarized yourself with tensors! It's time to do a couple of exercises."
   ]
  },
  {
   "cell_type": "markdown",
   "metadata": {
    "id": "CfD5ezT5VZLt"
   },
   "source": [
    "**Task 1.1: Selecting a subset of the data**\n",
    "\n",
    "Often in machine learning, we work with large amounts of data. Therefore we sometimes only want to work with subsets. For example, we may either want a couple of datapoints (a subset of the rows) or a couple of the variables (a subset of the columns).\n",
    "\n",
    "The first task is therefore to **select a subset of the data from a tensor.** The original tensor, w, contains 100 rows and 100 columns.\n",
    "\n",
    "* Hint: You can get the first and last $n$ elements of an array using `array[:n]` and `array[-n:]`"
   ]
  },
  {
   "cell_type": "code",
   "execution_count": 13,
   "metadata": {
    "colab": {
     "base_uri": "https://localhost:8080/"
    },
    "id": "oapeueisQ4-2",
    "outputId": "8cb35c19-37a9-478c-9cbf-90f67cfe0936"
   },
   "outputs": [
    {
     "output_type": "stream",
     "name": "stdout",
     "text": [
      "torch.Size([100, 100])\n",
      "torch.Size([10, 100])\n",
      "torch.Size([100, 10])\n",
      "tensor(-1.2063)\n"
     ]
    }
   ],
   "source": [
    "# We create a tensor that has 100 rows and 100 columns\n",
    "torch.manual_seed(0)\n",
    "w = torch.randn(100,100)\n",
    "print(w.shape)\n",
    "\n",
    "#TO-DO: select the first 10 rows of w\n",
    "w_ = w[:10] #solution\n",
    "w_ = w[:10, :]\n",
    "print(w_.shape)\n",
    "\n",
    "#TO-DO: select the last 10 columns of w\n",
    "w_ = w[:,-10:]\n",
    "print(w_.shape)\n",
    "\n",
    "#TO-DO: select the element in row 2 and column 5\n",
    "w_ = w[2, 5]\n",
    "print(w_)"
   ]
  },
  {
   "cell_type": "markdown",
   "metadata": {
    "id": "IuQoydAZq4pS"
   },
   "source": [
    "You should get:\n",
    "\n",
    "\n",
    "\n",
    "```\n",
    "torch.Size([10, 100])\n",
    "torch.Size([100, 10])\n",
    "tensor(-1.2063)\n",
    "```\n",
    "\n"
   ]
  },
  {
   "cell_type": "markdown",
   "metadata": {
    "id": "9YH9Rf9JT5te"
   },
   "source": [
    "**Task 1.2: Reshape a Tensor**\n",
    "\n",
    "For neural networks, we often need to our tensors to be in specific shapes. As such, it's useful to be able to reshape a tensor. There are two functions built into Pytorch which allow you to do this: [reshape](https://pytorch.org/docs/stable/generated/torch.reshape.html) and [view](https://pytorch.org/docs/stable/tensor_view.html). We'll play around with the first."
   ]
  },
  {
   "cell_type": "code",
   "execution_count": 14,
   "metadata": {
    "colab": {
     "base_uri": "https://localhost:8080/"
    },
    "id": "Y6mdOHCJHZPL",
    "outputId": "e500f247-87fa-4247-f68d-be1247e4c4ee"
   },
   "outputs": [
    {
     "output_type": "stream",
     "name": "stdout",
     "text": [
      "torch.Size([10, 1000])\n",
      "torch.Size([1, 10000])\n"
     ]
    }
   ],
   "source": [
    "# TO-DO reshape the tensor w into a 10 by 1000 tensor\n",
    "w_ = w.reshape(10,1000)\n",
    "print(w_.shape)\n",
    "\n",
    "# TO-DO reshape the tensor w into a 1 by 10000 tensor\n",
    "w_ = w.reshape(1,10000)\n",
    "print(w_.shape)"
   ]
  },
  {
   "cell_type": "code",
   "execution_count": null,
   "metadata": {
    "colab": {
     "base_uri": "https://localhost:8080/"
    },
    "id": "ME5sStIbU1T2",
    "outputId": "7adad4fc-8b66-4bbc-ba1a-bf515630cf04"
   },
   "outputs": [
    {
     "data": {
      "text/plain": [
       "torch.Size([100, 100])"
      ]
     },
     "execution_count": 15,
     "metadata": {
      "tags": []
     },
     "output_type": "execute_result"
    }
   ],
   "source": [
    "w.shape"
   ]
  },
  {
   "cell_type": "markdown",
   "metadata": {
    "id": "3ffmpIm0q-6-"
   },
   "source": [
    "You should see:\n",
    "\n",
    "\n",
    "\n",
    "```\n",
    "torch.Size([10, 1000])\n",
    "torch.Size([1, 10000])\n",
    "```\n",
    "\n"
   ]
  },
  {
   "cell_type": "markdown",
   "metadata": {
    "id": "ltUQz-i2Q5ck"
   },
   "source": [
    "**Task 1.3: Computing Accuracy**\n",
    "\n",
    "As we've seen in previous lectures, it can be useful to compute the accuracy to measure the performance of our model. Below, we'll implement a function that computes accuracy using PyTorch.\n",
    "\n",
    "* Hint: You can use `==` to test if an array is similar (remember 1 means true and 0 means false):\n",
    "\n",
    "```\n",
    "[2, 3, 4] == [2, 4, 4]\n",
    "> [1, 0, 1]\n",
    "```\n"
   ]
  },
  {
   "cell_type": "code",
   "execution_count": 15,
   "metadata": {
    "id": "TsBhCCfWI7r4"
   },
   "outputs": [],
   "source": [
    "def accuracy(pred, y):\n",
    "  #TO-DO compute the accuracy\n",
    "  acc = (pred == y).float().mean() #solution\n",
    "  return acc"
   ]
  },
  {
   "cell_type": "code",
   "execution_count": 16,
   "metadata": {
    "colab": {
     "base_uri": "https://localhost:8080/"
    },
    "id": "ZhrKwhq4djyB",
    "outputId": "02e131c5-0963-4f34-ef29-0773607a5d80"
   },
   "outputs": [
    {
     "output_type": "execute_result",
     "data": {
      "text/plain": [
       "tensor(0.7500)"
      ]
     },
     "metadata": {},
     "execution_count": 16
    }
   ],
   "source": [
    "y_tensor = torch.tensor([0, 1, 0, 1])\n",
    "pred_tensor = torch.tensor([1, 1, 0, 1])\n",
    "accuracy(pred_tensor, y_tensor)"
   ]
  },
  {
   "cell_type": "code",
   "execution_count": 17,
   "metadata": {
    "colab": {
     "base_uri": "https://localhost:8080/"
    },
    "id": "SnZXA7fBVJ00",
    "outputId": "c1ceb3d5-f423-40ce-9a77-d976d5173f7b"
   },
   "outputs": [
    {
     "output_type": "stream",
     "name": "stdout",
     "text": [
      "tensor([False,  True,  True,  True])\n",
      "tensor([0., 1., 1., 1.])\n"
     ]
    },
    {
     "output_type": "execute_result",
     "data": {
      "text/plain": [
       "tensor(0.7500)"
      ]
     },
     "metadata": {},
     "execution_count": 17
    }
   ],
   "source": [
    "print((pred_tensor == y_tensor))\n",
    "print((pred_tensor == y_tensor).float())\n",
    "(pred_tensor == y_tensor).float().mean()"
   ]
  },
  {
   "cell_type": "markdown",
   "metadata": {
    "id": "Utou57Mgds7k"
   },
   "source": [
    "Your output for the above cell should be:\n",
    "\n",
    "```\n",
    "tensor(0.7500)\n",
    "```\n",
    "\n",
    "\n"
   ]
  },
  {
   "cell_type": "markdown",
   "metadata": {
    "id": "yvhCU_fhWFr7"
   },
   "source": [
    "**Task 1.4: Matrix Multiplication**\n",
    "\n",
    "Use `torch.matmul()` to compute a matrix multiplication."
   ]
  },
  {
   "cell_type": "code",
   "execution_count": 18,
   "metadata": {
    "colab": {
     "base_uri": "https://localhost:8080/"
    },
    "id": "CYzVlLBdI-Xq",
    "outputId": "be16da93-4725-418b-c17d-6135a83c6281"
   },
   "outputs": [
    {
     "output_type": "stream",
     "name": "stdout",
     "text": [
      "tensor([-4.0709])\n"
     ]
    }
   ],
   "source": [
    "torch.manual_seed(0)\n",
    "X = torch.randn(5)\n",
    "B = torch.randn((1,5))\n",
    "\n",
    "#TO-DO: multiply the tensors X and B (i.e., compute Y = BX)\n",
    "Y = torch.matmul(B,X)\n",
    "print(Y)"
   ]
  },
  {
   "cell_type": "markdown",
   "metadata": {
    "id": "kgVK6_42opr0"
   },
   "source": [
    "You should get\n",
    "\n",
    "```\n",
    "tensor([-4.0709])\n",
    "```\n",
    "\n",
    "\n",
    "\n",
    "**Stretch question**: can we compute Y = XB? If yes, does it give the same answer as  Y=BX? If not, why not?"
   ]
  },
  {
   "cell_type": "code",
   "execution_count": 19,
   "metadata": {
    "colab": {
     "base_uri": "https://localhost:8080/",
     "height": 141
    },
    "id": "G1uMIDINV1Kp",
    "outputId": "5ac18120-a87b-4ea8-dc88-e67c0ed6f07d"
   },
   "outputs": [
    {
     "output_type": "error",
     "ename": "RuntimeError",
     "evalue": "mat1 and mat2 shapes cannot be multiplied (1x5 and 1x5)",
     "traceback": [
      "\u001B[0;31m---------------------------------------------------------------------------\u001B[0m",
      "\u001B[0;31mRuntimeError\u001B[0m                              Traceback (most recent call last)",
      "\u001B[0;32m<ipython-input-19-36ba793ea446>\u001B[0m in \u001B[0;36m<cell line: 1>\u001B[0;34m()\u001B[0m\n\u001B[0;32m----> 1\u001B[0;31m \u001B[0mtorch\u001B[0m\u001B[0;34m.\u001B[0m\u001B[0mmatmul\u001B[0m\u001B[0;34m(\u001B[0m\u001B[0mX\u001B[0m\u001B[0;34m,\u001B[0m \u001B[0mB\u001B[0m\u001B[0;34m)\u001B[0m\u001B[0;34m\u001B[0m\u001B[0;34m\u001B[0m\u001B[0m\n\u001B[0m",
      "\u001B[0;31mRuntimeError\u001B[0m: mat1 and mat2 shapes cannot be multiplied (1x5 and 1x5)"
     ]
    }
   ],
   "source": [
    "torch.matmul(X, B)"
   ]
  },
  {
   "cell_type": "markdown",
   "metadata": {
    "id": "fNPVQLPulTlt"
   },
   "source": [
    "Congratulations! You've finished part I. 🎉  You're now familiar with the basic operations in PyTorch. Next, we'll use PyTorch to implement a neural network.\n",
    "\n",
    "\n",
    "\n",
    "---\n",
    "\n"
   ]
  },
  {
   "cell_type": "markdown",
   "metadata": {
    "id": "kQJmbUQ6GgoP"
   },
   "source": [
    "# Part 2: Implementing a Neural Network in Pytorch\n",
    "\n",
    "The goal of this section to teach you how to implement a Neural Network $f$ and train it with gradient descent in PyTorch.\n",
    "\n",
    "So let's recap on what we need:  \n",
    "*   a Neural Network $f_{\\theta}$ with *trainable* parameters (sometimes called weights) $\\theta$,\n",
    "*   a loss function $\\mathcal{L}(x,y)$ (e.g. Binary Cross Entropy or MSE),\n",
    "*   some input data $x$, and some output data $y$.\n",
    "\n",
    "Training $f_{\\theta}$ is performed using gradient decent, which keeps updating the parameters by an amount proportional to the negative gradient of the loss function:\n",
    "$$\\theta_{t+1} = \\theta_t - \\varepsilon\\nabla \\mathcal{L}(f_{\\theta_t}(x),y)$$\n",
    "\n",
    "This may sound like a lot at this stage, but we will see how PyTorch helps to focus on building good neural networks $f$ and does most of the work for us by providing us with built-in functions to compute the gradients and update the parameters.\n",
    "\n",
    "Let's start by seeing how we can build a Neural Network!\n",
    "\n"
   ]
  },
  {
   "cell_type": "markdown",
   "metadata": {
    "id": "01mDpdJONDzI"
   },
   "source": [
    "## Building a Neural Network\n",
    "\n",
    "Let us start by writing down the equation of a perceptron again:\n",
    "$$ f(x) = \\sigma(Wx + b) $$\n",
    "\n",
    "*   $x$ is our input data (this is the input **vector** of size $n$)\n",
    "*   $W$ is our weight matrix (these are the parameters we want to learn, this is of size $m \\times n$)\n",
    "*   $b$ is our bias term (these are the parameters we want to learn, this is of size $m$)\n",
    "*   $\\sigma$ is our *activation function*. In our example, we will use a ReLU activation for the non-final layers, and a Sigmoid activation for the output.\n",
    "\n",
    "**Question** What size is the output of $f(x)$?\n",
    "\n",
    "Let's start by building $f(x)$"
   ]
  },
  {
   "cell_type": "code",
   "execution_count": 20,
   "metadata": {
    "id": "oWRh8reDONhF"
   },
   "outputs": [],
   "source": [
    "# First we need to import PyTorch and the important functions\n",
    "torch.manual_seed(0)\n",
    "import torch\n",
    "import torch.nn as nn"
   ]
  },
  {
   "cell_type": "markdown",
   "metadata": {
    "id": "6W3RehY0-gp8"
   },
   "source": [
    "For the operation $Wx + b$, pytorch has very kindly implemented a function which handles all of the functionality and detail. All we need to do is do `my_layer = nn.Linear(n, m)` (this creates a random $W$ and $b$) and then doing `my_layer(x)` computes $Wx + b$.\n",
    "\n",
    "Try making your own linear layer below:"
   ]
  },
  {
   "cell_type": "code",
   "execution_count": 21,
   "metadata": {
    "colab": {
     "base_uri": "https://localhost:8080/"
    },
    "id": "BF0gap6O_Q1W",
    "outputId": "0b430c68-c332-4782-8fe2-847ae53a4b1e"
   },
   "outputs": [
    {
     "output_type": "stream",
     "name": "stdout",
     "text": [
      "tensor([0.0659, 0.7859, 0.3032], grad_fn=<SigmoidBackward0>)\n"
     ]
    }
   ],
   "source": [
    "m = 3\n",
    "n = 4\n",
    "x = torch.tensor([1.0, 2.0, 3.0, 4.0])\n",
    "# TO DO add your own layer here\n",
    "my_layer = nn.Linear(n, m)\n",
    "# TO Do call your layer to perofrm Wx + b\n",
    "output = my_layer(x)\n",
    "# Now pass it through an activation, you may want to search the pytorch webiste to find sigmoid\n",
    "fx = torch.sigmoid(output)\n",
    "print(fx)"
   ]
  },
  {
   "cell_type": "markdown",
   "metadata": {
    "id": "wKnTeFTM_66E"
   },
   "source": [
    "We can look at $W$ and $b$ using:"
   ]
  },
  {
   "cell_type": "code",
   "execution_count": null,
   "metadata": {
    "colab": {
     "base_uri": "https://localhost:8080/"
    },
    "id": "b6d5085k_-t0",
    "outputId": "e612ca2c-3938-4dcc-85fd-9bc10c390c48"
   },
   "outputs": [
    {
     "name": "stdout",
     "output_type": "stream",
     "text": [
      "W Parameter containing:\n",
      "tensor([[-0.0037,  0.2682, -0.4115, -0.3680],\n",
      "        [-0.1926,  0.1341, -0.0099,  0.3964],\n",
      "        [-0.0444,  0.1323, -0.1511, -0.0983]], requires_grad=True)\n",
      "b Parameter containing:\n",
      "tensor([-0.4777, -0.3311, -0.2061], requires_grad=True)\n"
     ]
    }
   ],
   "source": [
    "print(\"W\", my_layer.weight)\n",
    "print(\"b\", my_layer.bias)"
   ]
  },
  {
   "cell_type": "markdown",
   "metadata": {
    "id": "D4nqyYTFAHvz"
   },
   "source": [
    "Note how they say 'Parameter containing:', this is because PyTorch assumes we will be doing gradient descent on them."
   ]
  },
  {
   "cell_type": "markdown",
   "metadata": {
    "id": "dL204A2WA9xn"
   },
   "source": [
    "### A brief intro on classes\n",
    "\n",
    "To save us having to define our layers and functions in the main section of code, we can put them into a class. A class will allow us to create the `nn.Linear` first, and then allow us to compute $f(x)$ as many times as we want.\n",
    "\n",
    "* Note: A class is a way to bundle functions and variables that conceptually belong together. In the case of a neural network, the `nn.Linear` layers (data/variables) and the forward function (functions) conceptually belong together and so are put in a class.  To save us from rewriting the same code over and over again we can \"inherit\" from another class. Basically all this means is that our new class consists of the old class plus all the new data and functions we will add."
   ]
  },
  {
   "cell_type": "code",
   "execution_count": 22,
   "metadata": {
    "colab": {
     "base_uri": "https://localhost:8080/"
    },
    "id": "micZkyP5DA11",
    "outputId": "cb5c5d1b-9d01-4a0e-b2ac-8bc1743079cd"
   },
   "outputs": [
    {
     "output_type": "stream",
     "name": "stdout",
     "text": [
      "You have made a new layer with input size 3 and output size 4\n"
     ]
    }
   ],
   "source": [
    "class OneLayerNet(nn.Module):\n",
    "    def __init__(self, input_dim, output_dim): # this function is called when we make a new OneLayerNet()\n",
    "        super().__init__()\n",
    "        print(\"You have made a new layer with input size %i and output size %i\" % (input_dim, output_dim))\n",
    "        self.my_layer_1 = nn.Linear(input_dim, output_dim)\n",
    "        self.activation = nn.Sigmoid()\n",
    "\n",
    "    def forward(self, x):\n",
    "        print(\"Running forward pass!\")\n",
    "        hid1 = self.my_layer_1(x)\n",
    "        output = self.activation(hid1)\n",
    "        return output\n",
    "\n",
    "input_d = 3\n",
    "output_d = 4\n",
    "my_one_layer_net = OneLayerNet(input_d, output_d) # This creates an 'instance' i.e. makes a OneLayerNet for you by calling OneLayerNet.__init__(input_dim, output_dim)\n"
   ]
  },
  {
   "cell_type": "markdown",
   "metadata": {
    "id": "wGq84_3WEKIG"
   },
   "source": [
    "We can then run our neural network by making some data and passing it through `forward()`"
   ]
  },
  {
   "cell_type": "code",
   "execution_count": 23,
   "metadata": {
    "colab": {
     "base_uri": "https://localhost:8080/"
    },
    "id": "8rvmVXvIEP_s",
    "outputId": "0bc9e2e7-228f-4301-e0b3-47e9233cf463"
   },
   "outputs": [
    {
     "output_type": "stream",
     "name": "stdout",
     "text": [
      "Running forward pass!\n",
      "f(x) =  tensor([0.7274, 0.3478, 0.8009, 0.7978], grad_fn=<SigmoidBackward0>)\n"
     ]
    }
   ],
   "source": [
    "x = torch.tensor([1, 2, 3], dtype=torch.float)\n",
    "print(\"f(x) = \", my_one_layer_net(x)) # this calls my_one_layer_net.forward(x)"
   ]
  },
  {
   "cell_type": "markdown",
   "metadata": {
    "id": "XqnLhpmPHJdc"
   },
   "source": [
    "## Chaining Linear layers together\n",
    "\n",
    "We can chain these nn.Linear layers together to create a multi-layered perceptron (MLP):\n",
    "$$ \\text{MLP}(x) = f_2(f_1(x)). $$\n",
    "\n",
    "where $f_1$ and $f_2$ are the two layers of the network.\n",
    "Let's start by trying to implement this simple Neural Network:\n",
    "\n",
    "## Task 2.1\n",
    "\n",
    "Add another layer to the class below.\n",
    "\n",
    "* Hint, you'll need to add a `nn.Linear()` in `def __init__(self, input_dim, output_dim)`, make sure your dimensions match!\n",
    "* You will also need to make sure that this is updated in the `forward()` function.\n",
    "* Make sure you include an activation function, we recommend `nn.ReLU()`\n"
   ]
  },
  {
   "cell_type": "code",
   "execution_count": 24,
   "metadata": {
    "id": "6L5tyXGZLPI1"
   },
   "outputs": [],
   "source": [
    "class MLP(nn.Module): # PyTorch needs to have nn.Module in brackets so it knows this is a neural network\n",
    "\n",
    "    def __init__(self, input_dim, output_dim):\n",
    "        super().__init__() # PyTorch needs this line otherwise it gets upset\n",
    "        hidden_dim = 10\n",
    "\n",
    "        self.layer1 = nn.Linear(input_dim, hidden_dim)\n",
    "        # TO-DO: complete below\n",
    "        self.layer2 = nn.Linear(hidden_dim, output_dim)\n",
    "        self.activation1 = nn.ReLU()\n",
    "        self.activation2 = nn.Sigmoid()\n",
    "\n",
    "    def forward(self, x):\n",
    "        #TO-DO: complete below\n",
    "        hid1 = self.layer1(x)\n",
    "        act1 = self.activation1(hid1)\n",
    "        hid2 = self.layer2(act1)\n",
    "        output = self.activation2(hid2)\n",
    "        return output"
   ]
  },
  {
   "cell_type": "code",
   "execution_count": 25,
   "metadata": {
    "colab": {
     "base_uri": "https://localhost:8080/"
    },
    "id": "WPAlrDMCIT07",
    "outputId": "0761d2a8-124c-4abb-9f41-aacfcfc97cc4"
   },
   "outputs": [
    {
     "output_type": "stream",
     "name": "stdout",
     "text": [
      "MLP(\n",
      "  (layer1): Linear(in_features=2, out_features=10, bias=True)\n",
      "  (layer2): Linear(in_features=10, out_features=1, bias=True)\n",
      "  (activation1): ReLU()\n",
      "  (activation2): Sigmoid()\n",
      ")\n",
      "Output: tensor([0.4930], grad_fn=<SigmoidBackward0>)\n"
     ]
    }
   ],
   "source": [
    "torch.manual_seed(0)\n",
    "input_d = 2\n",
    "output_d = 1\n",
    "model = MLP(input_d, output_d) # creating an instance of our MLP et voila!\n",
    "\n",
    "#print a summary of the network\n",
    "print(model)\n",
    "\n",
    "x = torch.randn(input_d)\n",
    "print(\"Output:\", model(x))"
   ]
  },
  {
   "cell_type": "markdown",
   "metadata": {
    "id": "BA4OLo8ec9HE"
   },
   "source": [
    "The expected outputs should be:\n",
    "```\n",
    "MLP(\n",
    "  (layer1): Linear(in_features=2, out_features=10, bias=True)\n",
    "  (layer2): Linear(in_features=10, out_features=1, bias=True)\n",
    "  (activation1): ReLU()\n",
    "  (activation2): Sigmoid()\n",
    ")\n",
    "```\n",
    "and\n",
    "```\n",
    "Output: tensor([0.4930], grad_fn=<SigmoidBackward>)\n",
    "```"
   ]
  },
  {
   "cell_type": "markdown",
   "metadata": {
    "id": "Qloj41nmIPA4"
   },
   "source": [
    "## Task 2.2\n",
    "\n",
    "Play around with the input and output dimensions to see how it affects the structure of your neural network (use the code box above)."
   ]
  },
  {
   "cell_type": "markdown",
   "metadata": {
    "id": "ef9j9zJLQoo7"
   },
   "source": [
    "## Loss function and Optimizer\n",
    "\n",
    "Loss functions tell our neural network how accurate they are. The ouput of the loss function is what we will compute the gradient on. Typically we choose our loss function based on the task from a common set of loss functions we know tend to work well. PyTorch has implemented most of them for us already (you can find a full list with explanations [here](https://pytorch.org/docs/stable/nn.html#loss-functions)), so all we have to do is call the loss function we want to use. We do this in the same way we created a linear layer. Search the [list](https://pytorch.org/docs/stable/nn.html#loss-functions) of loss functions to find one which would enable us to do binary classification and fill out the box below .\n",
    "\n",
    "* Hint: it should be of the form `loss_function = nn.YourChosenLoss()`"
   ]
  },
  {
   "cell_type": "code",
   "execution_count": 26,
   "metadata": {
    "id": "4ig5TCkBWv6I"
   },
   "outputs": [],
   "source": [
    "# Task find a loss function to perform binary classification\n",
    "loss_function = nn.BCELoss()"
   ]
  },
  {
   "cell_type": "markdown",
   "metadata": {
    "id": "nRAO_oj9OMl2"
   },
   "source": [
    "Run the code below to make sure you get the right answer"
   ]
  },
  {
   "cell_type": "code",
   "execution_count": 29,
   "metadata": {
    "colab": {
     "base_uri": "https://localhost:8080/"
    },
    "id": "npvPpxu-OPy4",
    "outputId": "c3d6934f-4fe6-4aa8-8107-79ea566c188b"
   },
   "outputs": [
    {
     "output_type": "stream",
     "name": "stdout",
     "text": [
      "tensor(0.2284)\n"
     ]
    }
   ],
   "source": [
    "input = torch.tensor([0.1, 0.8, 0.3])\n",
    "target = torch.tensor([0.0, 1.0, 0.0])\n",
    "print(loss_function(input, target))"
   ]
  },
  {
   "cell_type": "markdown",
   "metadata": {
    "id": "QTOwWInVOTWb"
   },
   "source": [
    "Answer: `tensor(0.2284)`"
   ]
  },
  {
   "cell_type": "markdown",
   "metadata": {
    "id": "mrhoUhHHVS_n"
   },
   "source": [
    "#### The Optimizer\n",
    "\n",
    "Next we will create what is called an optimizer. The optimizer will deal with the parameter updates for us, i.e. finding all of the parameters and their gradients and updating them. This saves us from having to manually do it like in the logistic regression session.\n",
    "\n",
    "We will use SGD, which is the simplest optimizer (torch.optim.SGD()). We need to tell it which network parameters (i.e. the weights of our nn.Linear layers) to update and also give it a learning rate.\n",
    "\n",
    "```\n",
    "optimizer = optim.SGD(model.parameters(), lr=1.0)\n",
    "````\n",
    "\n",
    "We can then update the parameters using:\n",
    "\n",
    "```\n",
    "optimizer.step()\n",
    "```\n",
    "\n",
    "**WARNING!!** You need to make sure you've called `loss.backward()` first!!!"
   ]
  },
  {
   "cell_type": "markdown",
   "metadata": {
    "id": "EwBdzA3rnV4a"
   },
   "source": [
    "Next we will create a dataset for you to play with. We will use the co-centric gaussian dataset, which you can generate by calling generate_dataset1()\n",
    "\n",
    "We'll start with the co-centric dataset. You can always come back and play with the second if you finish early (just un-comment the final two lines below)"
   ]
  },
  {
   "cell_type": "code",
   "execution_count": 30,
   "metadata": {
    "id": "4lZv8B19nTQX"
   },
   "outputs": [],
   "source": [
    "torch.manual_seed(0)\n",
    "X_data,Y_data = generate_dataset1() # this generates the co-centric Gaussians dataset\n",
    "X_data_test, Y_data_test = generate_dataset1(50)\n",
    "\n",
    "# X,Y = generate_dataset2() #this generates the spiral dataset\n",
    "# X_test, Y_test = generate_dataset2(50) #this generates the spiral dataset"
   ]
  },
  {
   "cell_type": "markdown",
   "metadata": {
    "id": "V6eBHrPQexJB"
   },
   "source": [
    "Run the below cell to visualize the dataset. This is the same one you played around with before on the Tensorflow playground. Here, orange points are given label 1 and light blue points have label 0. The labelling is arbitrary and just used to distinguish between the classes."
   ]
  },
  {
   "cell_type": "code",
   "execution_count": 31,
   "metadata": {
    "colab": {
     "base_uri": "https://localhost:8080/",
     "height": 430
    },
    "id": "JCVmAt6ZRWr2",
    "outputId": "e3358d41-cfa6-402c-9062-d2d8a89d43c8"
   },
   "outputs": [
    {
     "output_type": "display_data",
     "data": {
      "text/plain": [
       "<Figure size 640x480 with 1 Axes>"
      ],
      "image/png": "[encoded data removed]"
     },
     "metadata": {}
    }
   ],
   "source": [
    "#Run this cell to visualize the dataset\n",
    "fig = plt.figure()\n",
    "ax = fig.add_subplot(111)\n",
    "\n",
    "colors = [\"lightblue\", \"orange\"]\n",
    "for cl in range(2):\n",
    "  x1 = X_data[Y_data==cl,0]\n",
    "  x2 = X_data[Y_data==cl,1]\n",
    "  plt.plot(x1, x2, \"o\", color=colors[cl])\n",
    "ax.set_aspect('equal')"
   ]
  },
  {
   "cell_type": "code",
   "execution_count": 32,
   "metadata": {
    "id": "KAl8yGuxGkMY"
   },
   "outputs": [],
   "source": [
    "# The cell below converts the data from numpy arrays into torch tensors\n",
    "Y = torch.tensor(Y_data).view(len(Y_data),1).float()\n",
    "X = torch.tensor(X_data).float()\n",
    "Y_test = torch.tensor(Y_data_test).view(len(Y_data_test),1).float()\n",
    "X_test = torch.tensor(X_data_test).float()"
   ]
  },
  {
   "cell_type": "markdown",
   "metadata": {
    "id": "Fuv9kNhHRBEp"
   },
   "source": [
    "## Taking a gradient step\n",
    "\n",
    "We are now ready to start training our neural network! We have all of the components in place:\n",
    "* A neural network, which we access through `model(x)`.\n",
    "* Our loss function `loss_function(preds, y)`.\n",
    "* And our optimizer `optimizer`.\n",
    "\n",
    "## Task 2.3\n",
    "See if you can fill out the function below. This function will calculate the loss, compute the gradient and update our parameters,\n"
   ]
  },
  {
   "cell_type": "code",
   "execution_count": 33,
   "metadata": {
    "id": "9Av0VM-xRZNK"
   },
   "outputs": [],
   "source": [
    "# Task: define the training loop\n",
    "def take_step(model, loss_function, data, optimizer):\n",
    "    # unpacking our data\n",
    "    x, labels = data\n",
    "\n",
    "    # Forward pass\n",
    "    # TO-DO: compute the predictions\n",
    "    preds = model(x)\n",
    "\n",
    "    # TO-DO: compute the loss for the prediction and corect labels\n",
    "    loss = loss_function(preds, labels)\n",
    "\n",
    "    # Backward pass\n",
    "    # For each paramter PyTorch accumulates gradients in one place, so we need to make sure to initialise them to 0\n",
    "    optimizer.zero_grad()\n",
    "\n",
    "    # TO-DO: Compute the gradient\n",
    "    loss.backward()\n",
    "\n",
    "    # TO-DO: take a gradient step\n",
    "    optimizer.step()\n",
    "\n",
    "    return model, loss"
   ]
  },
  {
   "cell_type": "markdown",
   "metadata": {
    "id": "iumFlJj0R-mK"
   },
   "source": [
    "Let's try to understand some of this magic a bit more:\n",
    "\n",
    "```\n",
    "optimizer.zero_grad()\n",
    "```\n",
    "Here we make sure the gradients are 0, we don't any bad gradients affecting our parameter updates. This is simply something we have to do because of the way PyTorch works. Don't worry too much about it, but make sure you include it in the future.\n",
    "\n",
    "```\n",
    "loss.backward()\n",
    "```\n",
    "This is where the magic happens and why we are using PyTorch. This automaically computes the gradients for us. PyTorch has kept track of each operation we have done to arrive at this loss value. Using this record of all the operations it can work out what the gradient is for each parameter used in the operations so far. It computes the gradients and stores them for the `optimizer` to use later.\n",
    "\n",
    "```\n",
    "optimizer.step()\n",
    "```\n",
    "This is where we update our parameters $\\theta$ with the gradients $\\nabla \\mathcal{L}(f_{\\theta_t}(x),y)$ we computed with `loss.backward()` and the learning rate given to the optimizer."
   ]
  },
  {
   "cell_type": "markdown",
   "metadata": {
    "id": "0AkN4u3CRH_O"
   },
   "source": [
    "All that is left to do now is use all the code we have so far. We need to take multiple steps to update our parameters so let's use a for loop."
   ]
  },
  {
   "cell_type": "code",
   "execution_count": 36,
   "metadata": {
    "colab": {
     "base_uri": "https://localhost:8080/"
    },
    "id": "gVPjeuvtWeda",
    "outputId": "87c40cec-fc45-4478-d975-47219493b1ba"
   },
   "outputs": [
    {
     "output_type": "stream",
     "name": "stdout",
     "text": [
      "Iteration 0, Loss 0.731\n",
      "Iteration 10, Loss 0.561\n",
      "Iteration 20, Loss 0.512\n",
      "Iteration 30, Loss 0.478\n",
      "Iteration 40, Loss 0.450\n",
      "Iteration 50, Loss 0.425\n",
      "Iteration 60, Loss 0.401\n",
      "Iteration 70, Loss 0.379\n",
      "Iteration 80, Loss 0.358\n",
      "Iteration 90, Loss 0.336\n"
     ]
    }
   ],
   "source": [
    "import time\n",
    "model = MLP(2, 1)\n",
    "\n",
    "optimizer = optim.SGD(model.parameters(), lr=0.1)\n",
    "\n",
    "#Run the code\n",
    "iterations = 100\n",
    "\n",
    "for i in range(iterations):\n",
    "  model, loss = take_step(model, loss_function, (X,Y), optimizer)\n",
    "  if i % 10 == 0:\n",
    "    print(\"Iteration %i, Loss %.3f\" % (i, loss))\n",
    "    time.sleep(2)\n"
   ]
  },
  {
   "cell_type": "markdown",
   "metadata": {
    "id": "tDuiDgY2rf1q"
   },
   "source": [
    "To test your model's performance, compute the accuracy on the test set:"
   ]
  },
  {
   "cell_type": "code",
   "execution_count": null,
   "metadata": {
    "colab": {
     "base_uri": "https://localhost:8080/"
    },
    "id": "ebfhsRLere5L",
    "outputId": "6ae22e3b-ecf4-4b6a-d5c8-c0998ba1e953"
   },
   "outputs": [
    {
     "name": "stdout",
     "output_type": "stream",
     "text": [
      "tensor(0.9200)\n"
     ]
    }
   ],
   "source": [
    "#TO-DO: compute the test accuracy (using X_test and Y_test)\n",
    "predictions = model.forward(X_test)\n",
    "predicted_labels = torch.round(predictions)\n",
    "post_training_acc = accuracy(predicted_labels, Y_test)\n",
    "print(post_training_acc)"
   ]
  },
  {
   "cell_type": "markdown",
   "metadata": {
    "id": "ro_7IWb5UlyL"
   },
   "source": [
    "## Visualize the decision boundary\n",
    "\n",
    "After training the model, we can go through each $(x_1, x_2)$ pair in a fixed range and pass it through our pre-trained model to retrieve its corresponding prediction.\n",
    "\n",
    "We use `torch.meshgrid` to generate the 2D grid and a single `> 0.5` threshold to classify the grid-points based on the prediction.\n",
    "\n",
    "On top of it, we plot the original dataset for reference.\n",
    "\n"
   ]
  },
  {
   "cell_type": "code",
   "execution_count": 37,
   "metadata": {
    "colab": {
     "base_uri": "https://localhost:8080/",
     "height": 485
    },
    "id": "fH7MxjonRMG6",
    "outputId": "f45e3370-a7a0-432a-8816-fce694ae789c"
   },
   "outputs": [
    {
     "output_type": "stream",
     "name": "stderr",
     "text": [
      "/usr/local/lib/python3.10/dist-packages/torch/functional.py:512: UserWarning: torch.meshgrid: in an upcoming release, it will be required to pass the indexing argument. (Triggered internally at ../aten/src/ATen/native/TensorShape.cpp:3587.)\n",
      "  return _VF.meshgrid(tensors, **kwargs)  # type: ignore[attr-defined]\n"
     ]
    },
    {
     "output_type": "display_data",
     "data": {
      "text/plain": [
       "<Figure size 640x480 with 1 Axes>"
      ],
      "image/png": "[encoded data removed]"
     },
     "metadata": {}
    }
   ],
   "source": [
    "#Run this cell to visualize the dataset\n",
    "fig = plt.figure()\n",
    "ax = fig.add_subplot(111)\n",
    "\n",
    "N = 100\n",
    "X1, X2 = torch.meshgrid(torch.linspace(-5, 5, N), torch.linspace(-5, 5, N))\n",
    "X_grid = torch.stack([X1.flatten(), X2.flatten()], dim=1)\n",
    "Y_pred = (model.forward(X_grid) > 0.5).squeeze().int()\n",
    "\n",
    "colors = [\"lightblue\", \"orange\"]\n",
    "for cl in range(2):\n",
    "  x1 = X_grid[Y_pred==cl,0]\n",
    "  x2 = X_grid[Y_pred==cl,1]\n",
    "  plt.plot(x1, x2, \"o\", color=colors[cl], alpha=0.05)\n",
    "\n",
    "for cl in range(2):\n",
    "  x1 = X_data[Y_data==cl,0]\n",
    "  x2 = X_data[Y_data==cl,1]\n",
    "  plt.plot(x1, x2, \"o\", color=colors[cl])\n",
    "\n",
    "ax.set_aspect('equal')"
   ]
  },
  {
   "cell_type": "markdown",
   "metadata": {
    "id": "Af2kxXUPULJs"
   },
   "source": [
    "## Task 2.4\n",
    "\n",
    "Play around with the learning rate and the number of iterations in the code above to see how it affects your accuracy."
   ]
  }
 ],
 "metadata": {
  "colab": {
   "provenance": []
  },
  "kernelspec": {
   "display_name": "Python 3 (ipykernel)",
   "language": "python",
   "name": "python3"
  },
  "language_info": {
   "codemirror_mode": {
    "name": "ipython",
    "version": 3
   },
   "file_extension": ".py",
   "mimetype": "text/x-python",
   "name": "python",
   "nbconvert_exporter": "python",
   "pygments_lexer": "ipython3",
   "version": "3.10.9"
  }
 },
 "nbformat": 4,
 "nbformat_minor": 0
}
